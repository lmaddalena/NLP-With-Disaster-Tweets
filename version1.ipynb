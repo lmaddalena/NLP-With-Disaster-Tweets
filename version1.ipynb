{
 "cells": [
  {
   "cell_type": "markdown",
   "metadata": {},
   "source": [
    "# Kaggle - Natural Language Processing with Disaster Tweets\n",
    "### Predict which Tweets are about real disasters and which ones are not\n",
    "https://www.kaggle.com/competitions/nlp-getting-started/overview"
   ]
  },
  {
   "cell_type": "code",
   "execution_count": 100,
   "metadata": {},
   "outputs": [],
   "source": [
    "import numpy as np\n",
    "import pandas as pd\n",
    "import tensorflow as tf\n",
    "import transformers as ppb \n",
    "import matplotlib.pyplot as plt\n",
    "import os\n",
    "from tensorflow import keras\n",
    "from sklearn.metrics import ConfusionMatrixDisplay, confusion_matrix"
   ]
  },
  {
   "cell_type": "code",
   "execution_count": 101,
   "metadata": {},
   "outputs": [],
   "source": [
    "# load data\n",
    "df_train = pd.read_csv(\"data/train.csv\")\n",
    "df_test = pd.read_csv(\"data/test.csv\")"
   ]
  },
  {
   "cell_type": "code",
   "execution_count": 102,
   "metadata": {},
   "outputs": [
    {
     "name": "stdout",
     "output_type": "stream",
     "text": [
      "Training Set Shape = (7613, 5)\n",
      "Training Set Memory Usage = 0.29 MB\n",
      "Test Set Shape = (3263, 4)\n",
      "Test Set Memory Usage = 0.10 MB\n"
     ]
    }
   ],
   "source": [
    "print('Training Set Shape = {}'.format(df_train.shape))\n",
    "print('Training Set Memory Usage = {:.2f} MB'.format(df_train.memory_usage().sum() / 1024**2))\n",
    "print('Test Set Shape = {}'.format(df_test.shape))\n",
    "print('Test Set Memory Usage = {:.2f} MB'.format(df_test.memory_usage().sum() / 1024**2))"
   ]
  },
  {
   "cell_type": "code",
   "execution_count": 103,
   "metadata": {},
   "outputs": [
    {
     "data": {
      "text/html": [
       "<div>\n",
       "<style scoped>\n",
       "    .dataframe tbody tr th:only-of-type {\n",
       "        vertical-align: middle;\n",
       "    }\n",
       "\n",
       "    .dataframe tbody tr th {\n",
       "        vertical-align: top;\n",
       "    }\n",
       "\n",
       "    .dataframe thead th {\n",
       "        text-align: right;\n",
       "    }\n",
       "</style>\n",
       "<table border=\"1\" class=\"dataframe\">\n",
       "  <thead>\n",
       "    <tr style=\"text-align: right;\">\n",
       "      <th></th>\n",
       "      <th>id</th>\n",
       "      <th>keyword</th>\n",
       "      <th>location</th>\n",
       "      <th>text</th>\n",
       "      <th>target</th>\n",
       "    </tr>\n",
       "  </thead>\n",
       "  <tbody>\n",
       "    <tr>\n",
       "      <th>0</th>\n",
       "      <td>1</td>\n",
       "      <td>NaN</td>\n",
       "      <td>NaN</td>\n",
       "      <td>Our Deeds are the Reason of this #earthquake M...</td>\n",
       "      <td>1</td>\n",
       "    </tr>\n",
       "    <tr>\n",
       "      <th>1</th>\n",
       "      <td>4</td>\n",
       "      <td>NaN</td>\n",
       "      <td>NaN</td>\n",
       "      <td>Forest fire near La Ronge Sask. Canada</td>\n",
       "      <td>1</td>\n",
       "    </tr>\n",
       "    <tr>\n",
       "      <th>2</th>\n",
       "      <td>5</td>\n",
       "      <td>NaN</td>\n",
       "      <td>NaN</td>\n",
       "      <td>All residents asked to 'shelter in place' are ...</td>\n",
       "      <td>1</td>\n",
       "    </tr>\n",
       "    <tr>\n",
       "      <th>3</th>\n",
       "      <td>6</td>\n",
       "      <td>NaN</td>\n",
       "      <td>NaN</td>\n",
       "      <td>13,000 people receive #wildfires evacuation or...</td>\n",
       "      <td>1</td>\n",
       "    </tr>\n",
       "    <tr>\n",
       "      <th>4</th>\n",
       "      <td>7</td>\n",
       "      <td>NaN</td>\n",
       "      <td>NaN</td>\n",
       "      <td>Just got sent this photo from Ruby #Alaska as ...</td>\n",
       "      <td>1</td>\n",
       "    </tr>\n",
       "  </tbody>\n",
       "</table>\n",
       "</div>"
      ],
      "text/plain": [
       "   id keyword location                                               text  \\\n",
       "0   1     NaN      NaN  Our Deeds are the Reason of this #earthquake M...   \n",
       "1   4     NaN      NaN             Forest fire near La Ronge Sask. Canada   \n",
       "2   5     NaN      NaN  All residents asked to 'shelter in place' are ...   \n",
       "3   6     NaN      NaN  13,000 people receive #wildfires evacuation or...   \n",
       "4   7     NaN      NaN  Just got sent this photo from Ruby #Alaska as ...   \n",
       "\n",
       "   target  \n",
       "0       1  \n",
       "1       1  \n",
       "2       1  \n",
       "3       1  \n",
       "4       1  "
      ]
     },
     "execution_count": 103,
     "metadata": {},
     "output_type": "execute_result"
    }
   ],
   "source": [
    "df_train.head()"
   ]
  },
  {
   "cell_type": "code",
   "execution_count": 104,
   "metadata": {},
   "outputs": [
    {
     "data": {
      "text/html": [
       "<div>\n",
       "<style scoped>\n",
       "    .dataframe tbody tr th:only-of-type {\n",
       "        vertical-align: middle;\n",
       "    }\n",
       "\n",
       "    .dataframe tbody tr th {\n",
       "        vertical-align: top;\n",
       "    }\n",
       "\n",
       "    .dataframe thead th {\n",
       "        text-align: right;\n",
       "    }\n",
       "</style>\n",
       "<table border=\"1\" class=\"dataframe\">\n",
       "  <thead>\n",
       "    <tr style=\"text-align: right;\">\n",
       "      <th></th>\n",
       "      <th>id</th>\n",
       "      <th>keyword</th>\n",
       "      <th>location</th>\n",
       "      <th>text</th>\n",
       "    </tr>\n",
       "  </thead>\n",
       "  <tbody>\n",
       "    <tr>\n",
       "      <th>0</th>\n",
       "      <td>0</td>\n",
       "      <td>NaN</td>\n",
       "      <td>NaN</td>\n",
       "      <td>Just happened a terrible car crash</td>\n",
       "    </tr>\n",
       "    <tr>\n",
       "      <th>1</th>\n",
       "      <td>2</td>\n",
       "      <td>NaN</td>\n",
       "      <td>NaN</td>\n",
       "      <td>Heard about #earthquake is different cities, s...</td>\n",
       "    </tr>\n",
       "    <tr>\n",
       "      <th>2</th>\n",
       "      <td>3</td>\n",
       "      <td>NaN</td>\n",
       "      <td>NaN</td>\n",
       "      <td>there is a forest fire at spot pond, geese are...</td>\n",
       "    </tr>\n",
       "    <tr>\n",
       "      <th>3</th>\n",
       "      <td>9</td>\n",
       "      <td>NaN</td>\n",
       "      <td>NaN</td>\n",
       "      <td>Apocalypse lighting. #Spokane #wildfires</td>\n",
       "    </tr>\n",
       "    <tr>\n",
       "      <th>4</th>\n",
       "      <td>11</td>\n",
       "      <td>NaN</td>\n",
       "      <td>NaN</td>\n",
       "      <td>Typhoon Soudelor kills 28 in China and Taiwan</td>\n",
       "    </tr>\n",
       "  </tbody>\n",
       "</table>\n",
       "</div>"
      ],
      "text/plain": [
       "   id keyword location                                               text\n",
       "0   0     NaN      NaN                 Just happened a terrible car crash\n",
       "1   2     NaN      NaN  Heard about #earthquake is different cities, s...\n",
       "2   3     NaN      NaN  there is a forest fire at spot pond, geese are...\n",
       "3   9     NaN      NaN           Apocalypse lighting. #Spokane #wildfires\n",
       "4  11     NaN      NaN      Typhoon Soudelor kills 28 in China and Taiwan"
      ]
     },
     "execution_count": 104,
     "metadata": {},
     "output_type": "execute_result"
    }
   ],
   "source": [
    "df_test.head()"
   ]
  },
  {
   "cell_type": "code",
   "execution_count": 105,
   "metadata": {},
   "outputs": [
    {
     "name": "stdout",
     "output_type": "stream",
     "text": [
      "Train Length Stat\n",
      "count    7613.000000\n",
      "mean      101.037436\n",
      "std        33.781325\n",
      "min         7.000000\n",
      "25%        78.000000\n",
      "50%       107.000000\n",
      "75%       133.000000\n",
      "max       157.000000\n",
      "Name: length, dtype: float64\n",
      "\n",
      "Test Length Stat\n",
      "count    3263.000000\n",
      "mean      102.108183\n",
      "std        33.972158\n",
      "min         5.000000\n",
      "25%        78.000000\n",
      "50%       109.000000\n",
      "75%       134.000000\n",
      "max       151.000000\n",
      "Name: length, dtype: float64\n"
     ]
    }
   ],
   "source": [
    "df_train[\"length\"] = df_train[\"text\"].apply(lambda x : len(x))\n",
    "df_test[\"length\"] = df_test[\"text\"].apply(lambda x : len(x))\n",
    "\n",
    "print(\"Train Length Stat\")\n",
    "print(df_train[\"length\"].describe())\n",
    "print()\n",
    "\n",
    "print(\"Test Length Stat\")\n",
    "print(df_test[\"length\"].describe())"
   ]
  },
  {
   "cell_type": "code",
   "execution_count": 106,
   "metadata": {},
   "outputs": [
    {
     "data": {
      "image/png": "[encoded data removed]",
      "text/plain": [
       "<Figure size 432x288 with 1 Axes>"
      ]
     },
     "metadata": {
      "needs_background": "light"
     },
     "output_type": "display_data"
    }
   ],
   "source": [
    "labels = df_train[\"target\"]\n",
    "plt.hist(labels)\n",
    "plt.xlabel('target')\n",
    "plt.ylabel('nb samples')\n",
    "plt.title('target distribution')\n",
    "plt.xticks(np.arange(len(np.unique(labels))));"
   ]
  },
  {
   "cell_type": "markdown",
   "metadata": {},
   "source": [
    "### Loading the Pre-trained BERT model"
   ]
  },
  {
   "cell_type": "code",
   "execution_count": 107,
   "metadata": {},
   "outputs": [
    {
     "name": "stderr",
     "output_type": "stream",
     "text": [
      "Some layers from the model checkpoint at distilbert-base-uncased were not used when initializing TFDistilBertModel: ['vocab_layer_norm', 'vocab_transform', 'vocab_projector', 'activation_13']\n",
      "- This IS expected if you are initializing TFDistilBertModel from the checkpoint of a model trained on another task or with another architecture (e.g. initializing a BertForSequenceClassification model from a BertForPreTraining model).\n",
      "- This IS NOT expected if you are initializing TFDistilBertModel from the checkpoint of a model that you expect to be exactly identical (initializing a BertForSequenceClassification model from a BertForSequenceClassification model).\n",
      "All the layers of TFDistilBertModel were initialized from the model checkpoint at distilbert-base-uncased.\n",
      "If your task is similar to the task the model of the checkpoint was trained on, you can already use TFDistilBertModel for predictions without further training.\n"
     ]
    }
   ],
   "source": [
    "model_class, tokenizer_class, pretrained_weights = (ppb.TFDistilBertModel, ppb.DistilBertTokenizer, 'distilbert-base-uncased')\n",
    "\n",
    "# Load pretrained model/tokenizer\n",
    "tokenizer = tokenizer_class.from_pretrained(pretrained_weights)\n",
    "model = model_class.from_pretrained(pretrained_weights)"
   ]
  },
  {
   "cell_type": "code",
   "execution_count": 108,
   "metadata": {},
   "outputs": [
    {
     "name": "stdout",
     "output_type": "stream",
     "text": [
      "Model: \"tf_distil_bert_model_2\"\n",
      "_________________________________________________________________\n",
      "Layer (type)                 Output Shape              Param #   \n",
      "=================================================================\n",
      "distilbert (TFDistilBertMain multiple                  66362880  \n",
      "=================================================================\n",
      "Total params: 66,362,880\n",
      "Trainable params: 66,362,880\n",
      "Non-trainable params: 0\n",
      "_________________________________________________________________\n"
     ]
    }
   ],
   "source": [
    "model.summary()"
   ]
  },
  {
   "cell_type": "markdown",
   "metadata": {},
   "source": [
    "### Tokenization"
   ]
  },
  {
   "cell_type": "code",
   "execution_count": 109,
   "metadata": {},
   "outputs": [],
   "source": [
    "def tokenize(sentences):\n",
    "    tokenized = [tokenizer(sentence, add_special_tokens=True)['input_ids'] for sentence in sentences]\n",
    "    return tokenized"
   ]
  },
  {
   "cell_type": "code",
   "execution_count": 110,
   "metadata": {},
   "outputs": [],
   "source": [
    "tokenized = tokenize(df_train[\"text\"])"
   ]
  },
  {
   "cell_type": "code",
   "execution_count": 111,
   "metadata": {},
   "outputs": [
    {
     "name": "stdout",
     "output_type": "stream",
     "text": [
      "sentence:  Our Deeds are the Reason of this #earthquake May ALLAH Forgive us all\n",
      "tokenized:  [101, 2256, 15616, 2024, 1996, 3114, 1997, 2023, 1001, 8372, 2089, 16455, 9641, 2149, 2035, 102]\n",
      "decoded:  [CLS] our deeds are the reason of this # earthquake may allah forgive us all [SEP]\n"
     ]
    }
   ],
   "source": [
    "print(\"sentence: \", df_train[\"text\"][0] )\n",
    "print(\"tokenized: \", tokenized[0])\n",
    "print(\"decoded: \", tokenizer.decode(tokenized[0]))"
   ]
  },
  {
   "cell_type": "markdown",
   "metadata": {},
   "source": [
    "### Padding"
   ]
  },
  {
   "cell_type": "code",
   "execution_count": 112,
   "metadata": {},
   "outputs": [
    {
     "name": "stdout",
     "output_type": "stream",
     "text": [
      "Max sentence length is  157\n"
     ]
    }
   ],
   "source": [
    "# get the maxh length\n",
    "max_len = max(df_train[\"length\"].max(), df_test[\"length\"].max())\n",
    "print(\"Max sentence length is \", max_len)"
   ]
  },
  {
   "cell_type": "code",
   "execution_count": 113,
   "metadata": {},
   "outputs": [],
   "source": [
    "def pad_tokens(tokens, max_len):\n",
    "    padded = np.array([i + [0]*(max_len-len(i)) for i in tokens])\n",
    "    return padded"
   ]
  },
  {
   "cell_type": "code",
   "execution_count": 114,
   "metadata": {},
   "outputs": [
    {
     "name": "stdout",
     "output_type": "stream",
     "text": [
      "[  101  2256 15616  2024  1996  3114  1997  2023  1001  8372  2089 16455\n",
      "  9641  2149  2035   102     0     0     0     0     0     0     0     0\n",
      "     0     0     0     0     0     0     0     0     0     0     0     0\n",
      "     0     0     0     0     0     0     0     0     0     0     0     0\n",
      "     0     0     0     0     0     0     0     0     0     0     0     0\n",
      "     0     0     0     0     0     0     0     0     0     0     0     0\n",
      "     0     0     0     0     0     0     0     0     0     0     0     0\n",
      "     0     0     0     0     0     0     0     0     0     0     0     0\n",
      "     0     0     0     0     0     0     0     0     0     0     0     0\n",
      "     0     0     0     0     0     0     0     0     0     0     0     0\n",
      "     0     0     0     0     0     0     0     0     0     0     0     0\n",
      "     0     0     0     0     0     0     0     0     0     0     0     0\n",
      "     0     0     0     0     0     0     0     0     0     0     0     0\n",
      "     0]\n"
     ]
    }
   ],
   "source": [
    "padded = pad_tokens(tokenized, max_len)\n",
    "print(padded[0])"
   ]
  },
  {
   "cell_type": "code",
   "execution_count": 115,
   "metadata": {},
   "outputs": [
    {
     "name": "stdout",
     "output_type": "stream",
     "text": [
      "shape of padded:  (7613, 157)\n"
     ]
    }
   ],
   "source": [
    "print(\"shape of padded: \", padded.shape)"
   ]
  },
  {
   "cell_type": "markdown",
   "metadata": {},
   "source": [
    "### Masking"
   ]
  },
  {
   "cell_type": "code",
   "execution_count": 116,
   "metadata": {},
   "outputs": [],
   "source": [
    "def get_attention_mask(tokens):\n",
    "    attention_mask = np.where(tokens != 0, 1, 0)    \n",
    "    return attention_mask"
   ]
  },
  {
   "cell_type": "code",
   "execution_count": 117,
   "metadata": {},
   "outputs": [
    {
     "name": "stdout",
     "output_type": "stream",
     "text": [
      "[1 1 1 1 1 1 1 1 1 1 1 1 1 1 1 1 0 0 0 0 0 0 0 0 0 0 0 0 0 0 0 0 0 0 0 0 0\n",
      " 0 0 0 0 0 0 0 0 0 0 0 0 0 0 0 0 0 0 0 0 0 0 0 0 0 0 0 0 0 0 0 0 0 0 0 0 0\n",
      " 0 0 0 0 0 0 0 0 0 0 0 0 0 0 0 0 0 0 0 0 0 0 0 0 0 0 0 0 0 0 0 0 0 0 0 0 0\n",
      " 0 0 0 0 0 0 0 0 0 0 0 0 0 0 0 0 0 0 0 0 0 0 0 0 0 0 0 0 0 0 0 0 0 0 0 0 0\n",
      " 0 0 0 0 0 0 0 0 0]\n"
     ]
    }
   ],
   "source": [
    "attention_mask = get_attention_mask(padded)\n",
    "print(attention_mask[0])"
   ]
  },
  {
   "cell_type": "code",
   "execution_count": 118,
   "metadata": {},
   "outputs": [
    {
     "name": "stdout",
     "output_type": "stream",
     "text": [
      "shape of attention mask:  (7613, 157)\n"
     ]
    }
   ],
   "source": [
    "print(\"shape of attention mask: \", attention_mask.shape)"
   ]
  },
  {
   "cell_type": "markdown",
   "metadata": {},
   "source": [
    "### Create input tensor"
   ]
  },
  {
   "cell_type": "code",
   "execution_count": 119,
   "metadata": {},
   "outputs": [],
   "source": [
    "input_ids = tf.convert_to_tensor(padded, dtype=tf.int32)\n",
    "attention_mask = tf.convert_to_tensor(attention_mask, dtype=tf.int32)"
   ]
  },
  {
   "cell_type": "markdown",
   "metadata": {},
   "source": [
    "### Extract feature vectors\n",
    "The model() function runs our sentences through BERT. The results of the processing will be returned into last_hidden_states."
   ]
  },
  {
   "cell_type": "code",
   "execution_count": 120,
   "metadata": {},
   "outputs": [],
   "source": [
    "def extract_features(input_ids, attention_mask):\n",
    "    batch_size = 500\n",
    "    m = input_ids.shape[0]\n",
    "    n = int(m / batch_size)\n",
    "\n",
    "    hidden_units =  model.config.to_dict()['dim']\n",
    "    features = np.zeros((m, hidden_units))\n",
    "\n",
    "    print('Extract features using batches for memory issue:')\n",
    "\n",
    "    for i in range(n):\n",
    "        j, k = i*batch_size, i*batch_size+batch_size\n",
    "        print(f'Batch {i+1} [{j}:{k}]')\n",
    "        batch_input = input_ids[j:k]\n",
    "        batch_attention_mask = attention_mask[j:k]\n",
    "        last_hidden_states = model(batch_input, attention_mask = batch_attention_mask)\n",
    "\n",
    "        # Let's slice only the part of the output that we need. That is the output corresponding the first token of each sentence. \n",
    "        # The way BERT does sentence classification, is that it adds a token called [CLS] (for classification) at the beginning of \n",
    "        # every sentence. The output corresponding to that token can be thought of as an embedding for the entire sentence.\n",
    "        features[j:k] = last_hidden_states[0][:,0,:].numpy()\n",
    "\n",
    "        ## if you use BERT instead of distilBERT model, use this\n",
    "        #features[j:k] = last_hidden_states[1].numpy() \n",
    "\n",
    "    if(n*batch_size != m):\n",
    "        i = i + 1\n",
    "        j, k = i*batch_size, i*batch_size+(m-n*batch_size)\n",
    "        print(f'Batch {i+1} [{j}:{k}]')\n",
    "        batch_input = input_ids[j:k]\n",
    "        batch_attention_mask = attention_mask[j:k]\n",
    "        last_hidden_states = model(batch_input, attention_mask = batch_attention_mask)\n",
    "        features[j:k] = last_hidden_states[0][:,0,:].numpy()\n",
    "\n",
    "    return features"
   ]
  },
  {
   "cell_type": "code",
   "execution_count": 121,
   "metadata": {},
   "outputs": [],
   "source": [
    "def get_features(input_ids, attention_mask, filename):\n",
    "    if os.path.exists(filename):\n",
    "        F = np.load(filename)\n",
    "    else:\n",
    "        F = extract_features(input_ids, attention_mask)\n",
    "        np.save(filename, F)\n",
    "    return F"
   ]
  },
  {
   "cell_type": "code",
   "execution_count": 122,
   "metadata": {},
   "outputs": [
    {
     "name": "stdout",
     "output_type": "stream",
     "text": [
      "shape of feature vectors:  (7613, 768)\n"
     ]
    }
   ],
   "source": [
    "features = get_features(input_ids, attention_mask, \"data/E_train.npy\")\n",
    "print(\"shape of feature vectors: \", features.shape)"
   ]
  },
  {
   "cell_type": "markdown",
   "metadata": {},
   "source": [
    "### Extract Labels"
   ]
  },
  {
   "cell_type": "code",
   "execution_count": 123,
   "metadata": {},
   "outputs": [
    {
     "name": "stdout",
     "output_type": "stream",
     "text": [
      "shape of feature labels:  (7613,)\n"
     ]
    }
   ],
   "source": [
    "lables = df_train[\"target\"].to_numpy()\n",
    "print(\"shape of feature labels: \", labels.shape)"
   ]
  },
  {
   "cell_type": "markdown",
   "metadata": {},
   "source": [
    "### Train/Validation split"
   ]
  },
  {
   "cell_type": "code",
   "execution_count": 124,
   "metadata": {},
   "outputs": [
    {
     "name": "stdout",
     "output_type": "stream",
     "text": [
      "shapes of training data:  (6090, 768) (6090,)\n",
      "shapes of validation data:  (1523, 768) (1523,)\n"
     ]
    }
   ],
   "source": [
    "# 80% train, 20% validation\n",
    "split_size = int(features.shape[0] * .8)    \n",
    "X_train = features[:split_size,:]\n",
    "Y_train = lables[:split_size]\n",
    "X_val = features[split_size:,:]\n",
    "Y_val = lables[split_size:]\n",
    "\n",
    "print(\"shapes of training data: \", X_train.shape, Y_train.shape)\n",
    "print(\"shapes of validation data: \", X_val.shape, Y_val.shape)"
   ]
  },
  {
   "cell_type": "markdown",
   "metadata": {},
   "source": [
    "### Create the Logistic Regression Model"
   ]
  },
  {
   "cell_type": "code",
   "execution_count": 125,
   "metadata": {},
   "outputs": [],
   "source": [
    "def create_model(input_shape, classes):\n",
    "    inputs = keras.Input(shape=input_shape, name='input')\n",
    "    #h1 = keras.layers.Dense(512, activation='sigmoid', name='h1')(inputs)    \n",
    "    #d1 = keras.layers.Dropout(0.2, name='d1')(h1)\n",
    "    #h2 = keras.layers.Dense(568, activation='sigmoid', name='h2')(h1)\n",
    "    #d2 = keras.layers.Dropout(0.3, name='d2')(h2)\n",
    "    #h3 = keras.layers.Dense(128, activation='sigmoid', name='h3')(d2)\n",
    "    #d4 = keras.layers.Dropout(0.1, name='d4')(inputs)\n",
    "    outputs = keras.layers.Dense(classes, activation='sigmoid', name='output')(inputs)\n",
    "    model = tf.keras.Model(inputs=inputs, outputs=outputs)\n",
    "\n",
    "    optimizer = tf.keras.optimizers.Adamax()\n",
    "\n",
    "    model.compile(\n",
    "        loss='binary_crossentropy', \n",
    "        optimizer=optimizer, \n",
    "        metrics=['binary_accuracy']\n",
    "    )\n",
    "\n",
    "    return model"
   ]
  },
  {
   "cell_type": "code",
   "execution_count": 126,
   "metadata": {},
   "outputs": [
    {
     "name": "stdout",
     "output_type": "stream",
     "text": [
      "Model: \"model_2\"\n",
      "_________________________________________________________________\n",
      "Layer (type)                 Output Shape              Param #   \n",
      "=================================================================\n",
      "input (InputLayer)           [(None, 768)]             0         \n",
      "_________________________________________________________________\n",
      "output (Dense)               (None, 1)                 769       \n",
      "=================================================================\n",
      "Total params: 769\n",
      "Trainable params: 769\n",
      "Non-trainable params: 0\n",
      "_________________________________________________________________\n"
     ]
    }
   ],
   "source": [
    "lr_model = create_model(X_train.shape[1], 1)\n",
    "lr_model.summary()"
   ]
  },
  {
   "cell_type": "code",
   "execution_count": 127,
   "metadata": {},
   "outputs": [
    {
     "data": {
      "image/png": "[encoded data removed]",
      "text/plain": [
       "<IPython.core.display.Image object>"
      ]
     },
     "execution_count": 127,
     "metadata": {},
     "output_type": "execute_result"
    }
   ],
   "source": [
    "keras.utils.plot_model(lr_model)"
   ]
  },
  {
   "cell_type": "markdown",
   "metadata": {},
   "source": [
    "### Train the model"
   ]
  },
  {
   "cell_type": "code",
   "execution_count": 128,
   "metadata": {},
   "outputs": [
    {
     "name": "stdout",
     "output_type": "stream",
     "text": [
      "Epoch 1/200\n",
      "39/39 [==============================] - 1s 12ms/step - loss: 0.6214 - binary_accuracy: 0.6892 - val_loss: 0.5838 - val_binary_accuracy: 0.7742\n",
      "Epoch 2/200\n",
      "39/39 [==============================] - 0s 3ms/step - loss: 0.5653 - binary_accuracy: 0.7570 - val_loss: 0.5458 - val_binary_accuracy: 0.7865\n",
      "Epoch 3/200\n",
      "39/39 [==============================] - 0s 2ms/step - loss: 0.5366 - binary_accuracy: 0.7638 - val_loss: 0.5234 - val_binary_accuracy: 0.7947\n",
      "Epoch 4/200\n",
      "39/39 [==============================] - 0s 2ms/step - loss: 0.5174 - binary_accuracy: 0.7691 - val_loss: 0.5076 - val_binary_accuracy: 0.7947\n",
      "Epoch 5/200\n",
      "39/39 [==============================] - 0s 3ms/step - loss: 0.5053 - binary_accuracy: 0.7711 - val_loss: 0.4967 - val_binary_accuracy: 0.7964\n",
      "Epoch 6/200\n",
      "39/39 [==============================] - 0s 3ms/step - loss: 0.4968 - binary_accuracy: 0.7728 - val_loss: 0.4883 - val_binary_accuracy: 0.8046\n",
      "Epoch 7/200\n",
      "39/39 [==============================] - 0s 2ms/step - loss: 0.4898 - binary_accuracy: 0.7765 - val_loss: 0.4815 - val_binary_accuracy: 0.8087\n",
      "Epoch 8/200\n",
      "39/39 [==============================] - 0s 2ms/step - loss: 0.4841 - binary_accuracy: 0.7777 - val_loss: 0.4764 - val_binary_accuracy: 0.8038\n",
      "Epoch 9/200\n",
      "39/39 [==============================] - 0s 2ms/step - loss: 0.4796 - binary_accuracy: 0.7794 - val_loss: 0.4721 - val_binary_accuracy: 0.8013\n",
      "Epoch 10/200\n",
      "39/39 [==============================] - 0s 2ms/step - loss: 0.4757 - binary_accuracy: 0.7796 - val_loss: 0.4667 - val_binary_accuracy: 0.8136\n",
      "Epoch 11/200\n",
      "39/39 [==============================] - 0s 2ms/step - loss: 0.4727 - binary_accuracy: 0.7818 - val_loss: 0.4641 - val_binary_accuracy: 0.8144\n",
      "Epoch 12/200\n",
      "39/39 [==============================] - 0s 2ms/step - loss: 0.4701 - binary_accuracy: 0.7843 - val_loss: 0.4627 - val_binary_accuracy: 0.8079\n",
      "Epoch 13/200\n",
      "39/39 [==============================] - 0s 2ms/step - loss: 0.4687 - binary_accuracy: 0.7839 - val_loss: 0.4588 - val_binary_accuracy: 0.8136\n",
      "Epoch 14/200\n",
      "39/39 [==============================] - 0s 2ms/step - loss: 0.4658 - binary_accuracy: 0.7863 - val_loss: 0.4567 - val_binary_accuracy: 0.8144\n",
      "Epoch 15/200\n",
      "39/39 [==============================] - 0s 2ms/step - loss: 0.4637 - binary_accuracy: 0.7851 - val_loss: 0.4545 - val_binary_accuracy: 0.8144\n",
      "Epoch 16/200\n",
      "39/39 [==============================] - 0s 2ms/step - loss: 0.4619 - binary_accuracy: 0.7865 - val_loss: 0.4526 - val_binary_accuracy: 0.8136\n",
      "Epoch 17/200\n",
      "39/39 [==============================] - 0s 2ms/step - loss: 0.4601 - binary_accuracy: 0.7894 - val_loss: 0.4502 - val_binary_accuracy: 0.8153\n",
      "Epoch 18/200\n",
      "39/39 [==============================] - 0s 2ms/step - loss: 0.4584 - binary_accuracy: 0.7898 - val_loss: 0.4488 - val_binary_accuracy: 0.8103\n",
      "Epoch 19/200\n",
      "39/39 [==============================] - 0s 3ms/step - loss: 0.4570 - binary_accuracy: 0.7906 - val_loss: 0.4460 - val_binary_accuracy: 0.8144\n",
      "Epoch 20/200\n",
      "39/39 [==============================] - 0s 2ms/step - loss: 0.4555 - binary_accuracy: 0.7929 - val_loss: 0.4463 - val_binary_accuracy: 0.8120\n",
      "Epoch 21/200\n",
      "39/39 [==============================] - 0s 2ms/step - loss: 0.4537 - binary_accuracy: 0.7923 - val_loss: 0.4428 - val_binary_accuracy: 0.8136\n",
      "Epoch 22/200\n",
      "39/39 [==============================] - 0s 2ms/step - loss: 0.4524 - binary_accuracy: 0.7952 - val_loss: 0.4421 - val_binary_accuracy: 0.8128\n",
      "Epoch 23/200\n",
      "39/39 [==============================] - 0s 2ms/step - loss: 0.4513 - binary_accuracy: 0.7956 - val_loss: 0.4394 - val_binary_accuracy: 0.8161\n",
      "Epoch 24/200\n",
      "39/39 [==============================] - 0s 2ms/step - loss: 0.4500 - binary_accuracy: 0.7954 - val_loss: 0.4397 - val_binary_accuracy: 0.8144\n",
      "Epoch 25/200\n",
      "39/39 [==============================] - 0s 2ms/step - loss: 0.4491 - binary_accuracy: 0.7968 - val_loss: 0.4375 - val_binary_accuracy: 0.8128\n",
      "Epoch 26/200\n",
      "39/39 [==============================] - 0s 3ms/step - loss: 0.4477 - binary_accuracy: 0.7960 - val_loss: 0.4381 - val_binary_accuracy: 0.8144\n",
      "Epoch 27/200\n",
      "39/39 [==============================] - 0s 2ms/step - loss: 0.4466 - binary_accuracy: 0.7989 - val_loss: 0.4346 - val_binary_accuracy: 0.8177\n",
      "Epoch 28/200\n",
      "39/39 [==============================] - 0s 2ms/step - loss: 0.4466 - binary_accuracy: 0.7986 - val_loss: 0.4357 - val_binary_accuracy: 0.8161\n",
      "Epoch 29/200\n",
      "39/39 [==============================] - 0s 2ms/step - loss: 0.4448 - binary_accuracy: 0.8007 - val_loss: 0.4331 - val_binary_accuracy: 0.8161\n",
      "Epoch 30/200\n",
      "39/39 [==============================] - 0s 2ms/step - loss: 0.4439 - binary_accuracy: 0.8009 - val_loss: 0.4328 - val_binary_accuracy: 0.8161\n",
      "Epoch 31/200\n",
      "39/39 [==============================] - 0s 2ms/step - loss: 0.4433 - binary_accuracy: 0.8013 - val_loss: 0.4318 - val_binary_accuracy: 0.8161\n",
      "Epoch 32/200\n",
      "39/39 [==============================] - 0s 2ms/step - loss: 0.4428 - binary_accuracy: 0.8036 - val_loss: 0.4307 - val_binary_accuracy: 0.8177\n",
      "Epoch 33/200\n",
      "39/39 [==============================] - 0s 2ms/step - loss: 0.4416 - binary_accuracy: 0.8040 - val_loss: 0.4309 - val_binary_accuracy: 0.8136\n",
      "Epoch 34/200\n",
      "39/39 [==============================] - 0s 2ms/step - loss: 0.4408 - binary_accuracy: 0.8038 - val_loss: 0.4289 - val_binary_accuracy: 0.8177\n",
      "Epoch 35/200\n",
      "39/39 [==============================] - 0s 2ms/step - loss: 0.4402 - binary_accuracy: 0.8046 - val_loss: 0.4286 - val_binary_accuracy: 0.8161\n",
      "Epoch 36/200\n",
      "39/39 [==============================] - 0s 2ms/step - loss: 0.4394 - binary_accuracy: 0.8050 - val_loss: 0.4286 - val_binary_accuracy: 0.8144\n",
      "Epoch 37/200\n",
      "39/39 [==============================] - 0s 2ms/step - loss: 0.4388 - binary_accuracy: 0.8060 - val_loss: 0.4280 - val_binary_accuracy: 0.8144\n",
      "Epoch 38/200\n",
      "39/39 [==============================] - 0s 2ms/step - loss: 0.4385 - binary_accuracy: 0.8071 - val_loss: 0.4278 - val_binary_accuracy: 0.8144\n",
      "Epoch 39/200\n",
      "39/39 [==============================] - 0s 2ms/step - loss: 0.4377 - binary_accuracy: 0.8056 - val_loss: 0.4263 - val_binary_accuracy: 0.8169\n",
      "Epoch 40/200\n",
      "39/39 [==============================] - 0s 2ms/step - loss: 0.4371 - binary_accuracy: 0.8062 - val_loss: 0.4253 - val_binary_accuracy: 0.8177\n",
      "Epoch 41/200\n",
      "39/39 [==============================] - 0s 2ms/step - loss: 0.4366 - binary_accuracy: 0.8071 - val_loss: 0.4261 - val_binary_accuracy: 0.8169\n",
      "Epoch 42/200\n",
      "39/39 [==============================] - 0s 2ms/step - loss: 0.4363 - binary_accuracy: 0.8050 - val_loss: 0.4251 - val_binary_accuracy: 0.8169\n",
      "Epoch 43/200\n",
      "39/39 [==============================] - 0s 2ms/step - loss: 0.4355 - binary_accuracy: 0.8085 - val_loss: 0.4236 - val_binary_accuracy: 0.8169\n",
      "Epoch 44/200\n",
      "39/39 [==============================] - 0s 2ms/step - loss: 0.4350 - binary_accuracy: 0.8071 - val_loss: 0.4230 - val_binary_accuracy: 0.8177\n",
      "Epoch 45/200\n",
      "39/39 [==============================] - 0s 2ms/step - loss: 0.4348 - binary_accuracy: 0.8093 - val_loss: 0.4248 - val_binary_accuracy: 0.8153\n",
      "Epoch 46/200\n",
      "39/39 [==============================] - 0s 2ms/step - loss: 0.4341 - binary_accuracy: 0.8067 - val_loss: 0.4218 - val_binary_accuracy: 0.8177\n",
      "Epoch 47/200\n",
      "39/39 [==============================] - 0s 2ms/step - loss: 0.4338 - binary_accuracy: 0.8095 - val_loss: 0.4225 - val_binary_accuracy: 0.8186\n",
      "Epoch 48/200\n",
      "39/39 [==============================] - 0s 2ms/step - loss: 0.4331 - binary_accuracy: 0.8095 - val_loss: 0.4215 - val_binary_accuracy: 0.8177\n",
      "Epoch 49/200\n",
      "39/39 [==============================] - 0s 2ms/step - loss: 0.4329 - binary_accuracy: 0.8099 - val_loss: 0.4213 - val_binary_accuracy: 0.8177\n",
      "Epoch 50/200\n",
      "39/39 [==============================] - 0s 2ms/step - loss: 0.4326 - binary_accuracy: 0.8087 - val_loss: 0.4210 - val_binary_accuracy: 0.8194\n",
      "Epoch 51/200\n",
      "39/39 [==============================] - 0s 2ms/step - loss: 0.4319 - binary_accuracy: 0.8081 - val_loss: 0.4207 - val_binary_accuracy: 0.8194\n",
      "Epoch 52/200\n",
      "39/39 [==============================] - 0s 2ms/step - loss: 0.4316 - binary_accuracy: 0.8099 - val_loss: 0.4203 - val_binary_accuracy: 0.8202\n",
      "Epoch 53/200\n",
      "39/39 [==============================] - 0s 2ms/step - loss: 0.4312 - binary_accuracy: 0.8097 - val_loss: 0.4205 - val_binary_accuracy: 0.8177\n",
      "Epoch 54/200\n",
      "39/39 [==============================] - 0s 2ms/step - loss: 0.4309 - binary_accuracy: 0.8120 - val_loss: 0.4211 - val_binary_accuracy: 0.8186\n",
      "Epoch 55/200\n",
      "39/39 [==============================] - 0s 2ms/step - loss: 0.4308 - binary_accuracy: 0.8114 - val_loss: 0.4209 - val_binary_accuracy: 0.8194\n",
      "Epoch 56/200\n",
      "39/39 [==============================] - 0s 2ms/step - loss: 0.4302 - binary_accuracy: 0.8075 - val_loss: 0.4187 - val_binary_accuracy: 0.8218\n",
      "Epoch 57/200\n",
      "39/39 [==============================] - 0s 2ms/step - loss: 0.4295 - binary_accuracy: 0.8110 - val_loss: 0.4185 - val_binary_accuracy: 0.8210\n",
      "Epoch 58/200\n",
      "39/39 [==============================] - 0s 2ms/step - loss: 0.4292 - binary_accuracy: 0.8091 - val_loss: 0.4174 - val_binary_accuracy: 0.8210\n",
      "Epoch 59/200\n",
      "39/39 [==============================] - 0s 2ms/step - loss: 0.4292 - binary_accuracy: 0.8120 - val_loss: 0.4176 - val_binary_accuracy: 0.8210\n",
      "Epoch 60/200\n",
      "39/39 [==============================] - 0s 2ms/step - loss: 0.4284 - binary_accuracy: 0.8103 - val_loss: 0.4179 - val_binary_accuracy: 0.8218\n",
      "Epoch 61/200\n",
      "39/39 [==============================] - 0s 2ms/step - loss: 0.4287 - binary_accuracy: 0.8124 - val_loss: 0.4177 - val_binary_accuracy: 0.8227\n",
      "Epoch 62/200\n",
      "39/39 [==============================] - 0s 2ms/step - loss: 0.4276 - binary_accuracy: 0.8097 - val_loss: 0.4173 - val_binary_accuracy: 0.8194\n",
      "Epoch 63/200\n",
      "39/39 [==============================] - 0s 2ms/step - loss: 0.4272 - binary_accuracy: 0.8116 - val_loss: 0.4170 - val_binary_accuracy: 0.8210\n",
      "Epoch 64/200\n",
      "39/39 [==============================] - 0s 2ms/step - loss: 0.4271 - binary_accuracy: 0.8130 - val_loss: 0.4173 - val_binary_accuracy: 0.8218\n",
      "Epoch 65/200\n",
      "39/39 [==============================] - 0s 2ms/step - loss: 0.4265 - binary_accuracy: 0.8116 - val_loss: 0.4164 - val_binary_accuracy: 0.8202\n",
      "Epoch 66/200\n",
      "39/39 [==============================] - 0s 2ms/step - loss: 0.4262 - binary_accuracy: 0.8120 - val_loss: 0.4169 - val_binary_accuracy: 0.8218\n",
      "Epoch 67/200\n",
      "39/39 [==============================] - 0s 2ms/step - loss: 0.4261 - binary_accuracy: 0.8097 - val_loss: 0.4160 - val_binary_accuracy: 0.8227\n",
      "Epoch 68/200\n",
      "39/39 [==============================] - 0s 2ms/step - loss: 0.4258 - binary_accuracy: 0.8122 - val_loss: 0.4155 - val_binary_accuracy: 0.8210\n",
      "Epoch 69/200\n",
      "39/39 [==============================] - 0s 2ms/step - loss: 0.4255 - binary_accuracy: 0.8132 - val_loss: 0.4166 - val_binary_accuracy: 0.8218\n",
      "Epoch 70/200\n",
      "39/39 [==============================] - 0s 2ms/step - loss: 0.4251 - binary_accuracy: 0.8118 - val_loss: 0.4150 - val_binary_accuracy: 0.8202\n",
      "Epoch 71/200\n",
      "39/39 [==============================] - 0s 2ms/step - loss: 0.4247 - binary_accuracy: 0.8122 - val_loss: 0.4145 - val_binary_accuracy: 0.8218\n",
      "Epoch 72/200\n",
      "39/39 [==============================] - 0s 2ms/step - loss: 0.4251 - binary_accuracy: 0.8128 - val_loss: 0.4144 - val_binary_accuracy: 0.8227\n",
      "Epoch 73/200\n",
      "39/39 [==============================] - 0s 2ms/step - loss: 0.4243 - binary_accuracy: 0.8155 - val_loss: 0.4156 - val_binary_accuracy: 0.8235\n",
      "Epoch 74/200\n",
      "39/39 [==============================] - 0s 2ms/step - loss: 0.4243 - binary_accuracy: 0.8081 - val_loss: 0.4146 - val_binary_accuracy: 0.8218\n",
      "Epoch 75/200\n",
      "39/39 [==============================] - 0s 2ms/step - loss: 0.4237 - binary_accuracy: 0.8124 - val_loss: 0.4147 - val_binary_accuracy: 0.8218\n",
      "Epoch 76/200\n",
      "39/39 [==============================] - 0s 2ms/step - loss: 0.4235 - binary_accuracy: 0.8149 - val_loss: 0.4145 - val_binary_accuracy: 0.8218\n",
      "Epoch 77/200\n",
      "39/39 [==============================] - 0s 2ms/step - loss: 0.4230 - binary_accuracy: 0.8144 - val_loss: 0.4142 - val_binary_accuracy: 0.8210\n",
      "Epoch 78/200\n",
      "39/39 [==============================] - 0s 2ms/step - loss: 0.4228 - binary_accuracy: 0.8132 - val_loss: 0.4145 - val_binary_accuracy: 0.8243\n",
      "Epoch 79/200\n",
      "39/39 [==============================] - 0s 2ms/step - loss: 0.4226 - binary_accuracy: 0.8149 - val_loss: 0.4136 - val_binary_accuracy: 0.8227\n",
      "Epoch 80/200\n",
      "39/39 [==============================] - 0s 2ms/step - loss: 0.4224 - binary_accuracy: 0.8149 - val_loss: 0.4134 - val_binary_accuracy: 0.8227\n",
      "Epoch 81/200\n",
      "39/39 [==============================] - 0s 2ms/step - loss: 0.4222 - binary_accuracy: 0.8151 - val_loss: 0.4138 - val_binary_accuracy: 0.8227\n",
      "Epoch 82/200\n",
      "39/39 [==============================] - 0s 2ms/step - loss: 0.4221 - binary_accuracy: 0.8118 - val_loss: 0.4144 - val_binary_accuracy: 0.8251\n",
      "Epoch 83/200\n",
      "39/39 [==============================] - 0s 2ms/step - loss: 0.4218 - binary_accuracy: 0.8136 - val_loss: 0.4129 - val_binary_accuracy: 0.8227\n",
      "Epoch 84/200\n",
      "39/39 [==============================] - 0s 2ms/step - loss: 0.4214 - binary_accuracy: 0.8136 - val_loss: 0.4135 - val_binary_accuracy: 0.8259\n",
      "Epoch 85/200\n",
      "39/39 [==============================] - 0s 3ms/step - loss: 0.4215 - binary_accuracy: 0.8134 - val_loss: 0.4139 - val_binary_accuracy: 0.8243\n",
      "Epoch 86/200\n",
      "39/39 [==============================] - 0s 2ms/step - loss: 0.4212 - binary_accuracy: 0.8136 - val_loss: 0.4136 - val_binary_accuracy: 0.8251\n",
      "Epoch 87/200\n",
      "39/39 [==============================] - 0s 2ms/step - loss: 0.4208 - binary_accuracy: 0.8124 - val_loss: 0.4128 - val_binary_accuracy: 0.8251\n",
      "Epoch 88/200\n",
      "39/39 [==============================] - 0s 2ms/step - loss: 0.4205 - binary_accuracy: 0.8134 - val_loss: 0.4129 - val_binary_accuracy: 0.8259\n",
      "Epoch 89/200\n",
      "39/39 [==============================] - 0s 2ms/step - loss: 0.4204 - binary_accuracy: 0.8161 - val_loss: 0.4129 - val_binary_accuracy: 0.8268\n",
      "Epoch 90/200\n",
      "39/39 [==============================] - 0s 2ms/step - loss: 0.4201 - binary_accuracy: 0.8147 - val_loss: 0.4118 - val_binary_accuracy: 0.8251\n",
      "Epoch 91/200\n",
      "39/39 [==============================] - 0s 2ms/step - loss: 0.4199 - binary_accuracy: 0.8138 - val_loss: 0.4122 - val_binary_accuracy: 0.8243\n",
      "Epoch 92/200\n",
      "39/39 [==============================] - 0s 2ms/step - loss: 0.4196 - binary_accuracy: 0.8155 - val_loss: 0.4123 - val_binary_accuracy: 0.8251\n",
      "Epoch 93/200\n",
      "39/39 [==============================] - 0s 2ms/step - loss: 0.4194 - binary_accuracy: 0.8136 - val_loss: 0.4119 - val_binary_accuracy: 0.8259\n",
      "Epoch 94/200\n",
      "39/39 [==============================] - 0s 2ms/step - loss: 0.4194 - binary_accuracy: 0.8155 - val_loss: 0.4128 - val_binary_accuracy: 0.8243\n",
      "Epoch 95/200\n",
      "39/39 [==============================] - 0s 2ms/step - loss: 0.4191 - binary_accuracy: 0.8155 - val_loss: 0.4116 - val_binary_accuracy: 0.8259\n",
      "Epoch 96/200\n",
      "39/39 [==============================] - 0s 2ms/step - loss: 0.4187 - binary_accuracy: 0.8147 - val_loss: 0.4115 - val_binary_accuracy: 0.8243\n",
      "Epoch 97/200\n",
      "39/39 [==============================] - 0s 2ms/step - loss: 0.4184 - binary_accuracy: 0.8149 - val_loss: 0.4104 - val_binary_accuracy: 0.8268\n",
      "Epoch 98/200\n",
      "39/39 [==============================] - 0s 2ms/step - loss: 0.4183 - binary_accuracy: 0.8157 - val_loss: 0.4118 - val_binary_accuracy: 0.8227\n",
      "Epoch 99/200\n",
      "39/39 [==============================] - 0s 2ms/step - loss: 0.4182 - binary_accuracy: 0.8147 - val_loss: 0.4113 - val_binary_accuracy: 0.8235\n",
      "Epoch 100/200\n",
      "39/39 [==============================] - 0s 2ms/step - loss: 0.4178 - binary_accuracy: 0.8151 - val_loss: 0.4109 - val_binary_accuracy: 0.8268\n",
      "Epoch 101/200\n",
      "39/39 [==============================] - 0s 2ms/step - loss: 0.4176 - binary_accuracy: 0.8157 - val_loss: 0.4103 - val_binary_accuracy: 0.8276\n",
      "Epoch 102/200\n",
      "39/39 [==============================] - 0s 2ms/step - loss: 0.4173 - binary_accuracy: 0.8159 - val_loss: 0.4102 - val_binary_accuracy: 0.8284\n",
      "Epoch 103/200\n",
      "39/39 [==============================] - 0s 2ms/step - loss: 0.4171 - binary_accuracy: 0.8151 - val_loss: 0.4097 - val_binary_accuracy: 0.8259\n",
      "Epoch 104/200\n",
      "39/39 [==============================] - 0s 2ms/step - loss: 0.4171 - binary_accuracy: 0.8183 - val_loss: 0.4109 - val_binary_accuracy: 0.8210\n",
      "Epoch 105/200\n",
      "39/39 [==============================] - 0s 2ms/step - loss: 0.4170 - binary_accuracy: 0.8147 - val_loss: 0.4092 - val_binary_accuracy: 0.8292\n",
      "Epoch 106/200\n",
      "39/39 [==============================] - 0s 2ms/step - loss: 0.4165 - binary_accuracy: 0.8204 - val_loss: 0.4108 - val_binary_accuracy: 0.8227\n",
      "Epoch 107/200\n",
      "39/39 [==============================] - 0s 2ms/step - loss: 0.4165 - binary_accuracy: 0.8149 - val_loss: 0.4101 - val_binary_accuracy: 0.8251\n",
      "Epoch 108/200\n",
      "39/39 [==============================] - 0s 2ms/step - loss: 0.4162 - binary_accuracy: 0.8144 - val_loss: 0.4098 - val_binary_accuracy: 0.8268\n",
      "Epoch 109/200\n",
      "39/39 [==============================] - 0s 2ms/step - loss: 0.4158 - binary_accuracy: 0.8165 - val_loss: 0.4114 - val_binary_accuracy: 0.8218\n",
      "Epoch 110/200\n",
      "39/39 [==============================] - 0s 2ms/step - loss: 0.4157 - binary_accuracy: 0.8165 - val_loss: 0.4102 - val_binary_accuracy: 0.8235\n",
      "Epoch 111/200\n",
      "39/39 [==============================] - 0s 2ms/step - loss: 0.4156 - binary_accuracy: 0.8167 - val_loss: 0.4109 - val_binary_accuracy: 0.8235\n",
      "Epoch 112/200\n",
      "39/39 [==============================] - 0s 2ms/step - loss: 0.4156 - binary_accuracy: 0.8188 - val_loss: 0.4107 - val_binary_accuracy: 0.8227\n",
      "Epoch 113/200\n",
      "39/39 [==============================] - 0s 2ms/step - loss: 0.4157 - binary_accuracy: 0.8149 - val_loss: 0.4091 - val_binary_accuracy: 0.8284\n",
      "Epoch 114/200\n",
      "39/39 [==============================] - 0s 2ms/step - loss: 0.4153 - binary_accuracy: 0.8165 - val_loss: 0.4089 - val_binary_accuracy: 0.8284\n",
      "Epoch 115/200\n",
      "39/39 [==============================] - 0s 2ms/step - loss: 0.4148 - binary_accuracy: 0.8169 - val_loss: 0.4087 - val_binary_accuracy: 0.8276\n",
      "Epoch 116/200\n",
      "39/39 [==============================] - 0s 2ms/step - loss: 0.4147 - binary_accuracy: 0.8179 - val_loss: 0.4095 - val_binary_accuracy: 0.8251\n",
      "Epoch 117/200\n",
      "39/39 [==============================] - 0s 2ms/step - loss: 0.4145 - binary_accuracy: 0.8163 - val_loss: 0.4090 - val_binary_accuracy: 0.8259\n",
      "Epoch 118/200\n",
      "39/39 [==============================] - 0s 2ms/step - loss: 0.4145 - binary_accuracy: 0.8194 - val_loss: 0.4097 - val_binary_accuracy: 0.8251\n",
      "Epoch 119/200\n",
      "39/39 [==============================] - 0s 2ms/step - loss: 0.4141 - binary_accuracy: 0.8173 - val_loss: 0.4099 - val_binary_accuracy: 0.8235\n",
      "Epoch 120/200\n",
      "39/39 [==============================] - 0s 2ms/step - loss: 0.4139 - binary_accuracy: 0.8165 - val_loss: 0.4085 - val_binary_accuracy: 0.8268\n",
      "Epoch 121/200\n",
      "39/39 [==============================] - 0s 2ms/step - loss: 0.4138 - binary_accuracy: 0.8206 - val_loss: 0.4090 - val_binary_accuracy: 0.8259\n",
      "Epoch 122/200\n",
      "39/39 [==============================] - 0s 2ms/step - loss: 0.4135 - binary_accuracy: 0.8186 - val_loss: 0.4091 - val_binary_accuracy: 0.8276\n",
      "Epoch 123/200\n",
      "39/39 [==============================] - 0s 2ms/step - loss: 0.4136 - binary_accuracy: 0.8183 - val_loss: 0.4099 - val_binary_accuracy: 0.8235\n",
      "Epoch 124/200\n",
      "39/39 [==============================] - 0s 2ms/step - loss: 0.4134 - binary_accuracy: 0.8167 - val_loss: 0.4091 - val_binary_accuracy: 0.8259\n",
      "Epoch 125/200\n",
      "39/39 [==============================] - 0s 2ms/step - loss: 0.4131 - binary_accuracy: 0.8181 - val_loss: 0.4086 - val_binary_accuracy: 0.8268\n",
      "Epoch 126/200\n",
      "39/39 [==============================] - 0s 2ms/step - loss: 0.4131 - binary_accuracy: 0.8153 - val_loss: 0.4083 - val_binary_accuracy: 0.8259\n",
      "Epoch 127/200\n",
      "39/39 [==============================] - 0s 2ms/step - loss: 0.4129 - binary_accuracy: 0.8214 - val_loss: 0.4085 - val_binary_accuracy: 0.8284\n",
      "Epoch 128/200\n",
      "39/39 [==============================] - 0s 2ms/step - loss: 0.4127 - binary_accuracy: 0.8163 - val_loss: 0.4081 - val_binary_accuracy: 0.8259\n",
      "Epoch 129/200\n",
      "39/39 [==============================] - 0s 2ms/step - loss: 0.4124 - binary_accuracy: 0.8186 - val_loss: 0.4088 - val_binary_accuracy: 0.8259\n",
      "Epoch 130/200\n",
      "39/39 [==============================] - 0s 2ms/step - loss: 0.4125 - binary_accuracy: 0.8173 - val_loss: 0.4079 - val_binary_accuracy: 0.8268\n",
      "Epoch 131/200\n",
      "39/39 [==============================] - 0s 2ms/step - loss: 0.4125 - binary_accuracy: 0.8216 - val_loss: 0.4099 - val_binary_accuracy: 0.8218\n",
      "Epoch 132/200\n",
      "39/39 [==============================] - 0s 2ms/step - loss: 0.4123 - binary_accuracy: 0.8171 - val_loss: 0.4087 - val_binary_accuracy: 0.8251\n",
      "Epoch 133/200\n",
      "39/39 [==============================] - 0s 2ms/step - loss: 0.4123 - binary_accuracy: 0.8175 - val_loss: 0.4088 - val_binary_accuracy: 0.8259\n",
      "Epoch 134/200\n",
      "39/39 [==============================] - 0s 2ms/step - loss: 0.4117 - binary_accuracy: 0.8186 - val_loss: 0.4078 - val_binary_accuracy: 0.8268\n",
      "Epoch 135/200\n",
      "39/39 [==============================] - 0s 2ms/step - loss: 0.4119 - binary_accuracy: 0.8218 - val_loss: 0.4078 - val_binary_accuracy: 0.8276\n",
      "Epoch 136/200\n",
      "39/39 [==============================] - 0s 2ms/step - loss: 0.4115 - binary_accuracy: 0.8198 - val_loss: 0.4079 - val_binary_accuracy: 0.8276\n",
      "Epoch 137/200\n",
      "39/39 [==============================] - 0s 2ms/step - loss: 0.4113 - binary_accuracy: 0.8196 - val_loss: 0.4080 - val_binary_accuracy: 0.8268\n",
      "Epoch 138/200\n",
      "39/39 [==============================] - 0s 2ms/step - loss: 0.4112 - binary_accuracy: 0.8198 - val_loss: 0.4075 - val_binary_accuracy: 0.8300\n",
      "Epoch 139/200\n",
      "39/39 [==============================] - 0s 2ms/step - loss: 0.4112 - binary_accuracy: 0.8200 - val_loss: 0.4075 - val_binary_accuracy: 0.8284\n",
      "Epoch 140/200\n",
      "39/39 [==============================] - 0s 2ms/step - loss: 0.4110 - binary_accuracy: 0.8206 - val_loss: 0.4082 - val_binary_accuracy: 0.8284\n",
      "Epoch 141/200\n",
      "39/39 [==============================] - 0s 2ms/step - loss: 0.4110 - binary_accuracy: 0.8208 - val_loss: 0.4080 - val_binary_accuracy: 0.8268\n",
      "Epoch 142/200\n",
      "39/39 [==============================] - 0s 2ms/step - loss: 0.4108 - binary_accuracy: 0.8204 - val_loss: 0.4079 - val_binary_accuracy: 0.8268\n",
      "Epoch 143/200\n",
      "39/39 [==============================] - 0s 2ms/step - loss: 0.4108 - binary_accuracy: 0.8206 - val_loss: 0.4078 - val_binary_accuracy: 0.8276\n",
      "Epoch 144/200\n",
      "39/39 [==============================] - 0s 2ms/step - loss: 0.4108 - binary_accuracy: 0.8231 - val_loss: 0.4086 - val_binary_accuracy: 0.8259\n",
      "Epoch 145/200\n",
      "39/39 [==============================] - 0s 2ms/step - loss: 0.4104 - binary_accuracy: 0.8214 - val_loss: 0.4078 - val_binary_accuracy: 0.8300\n",
      "Epoch 146/200\n",
      "39/39 [==============================] - 0s 2ms/step - loss: 0.4106 - binary_accuracy: 0.8202 - val_loss: 0.4082 - val_binary_accuracy: 0.8259\n",
      "Epoch 147/200\n",
      "39/39 [==============================] - 0s 2ms/step - loss: 0.4103 - binary_accuracy: 0.8188 - val_loss: 0.4072 - val_binary_accuracy: 0.8276\n",
      "Epoch 148/200\n",
      "39/39 [==============================] - 0s 2ms/step - loss: 0.4107 - binary_accuracy: 0.8231 - val_loss: 0.4079 - val_binary_accuracy: 0.8284\n",
      "Epoch 149/200\n",
      "39/39 [==============================] - 0s 2ms/step - loss: 0.4100 - binary_accuracy: 0.8212 - val_loss: 0.4080 - val_binary_accuracy: 0.8276\n",
      "Epoch 150/200\n",
      "39/39 [==============================] - 0s 2ms/step - loss: 0.4103 - binary_accuracy: 0.8196 - val_loss: 0.4071 - val_binary_accuracy: 0.8284\n",
      "Epoch 151/200\n",
      "39/39 [==============================] - 0s 2ms/step - loss: 0.4100 - binary_accuracy: 0.8214 - val_loss: 0.4085 - val_binary_accuracy: 0.8251\n",
      "Epoch 152/200\n",
      "39/39 [==============================] - 0s 2ms/step - loss: 0.4096 - binary_accuracy: 0.8212 - val_loss: 0.4073 - val_binary_accuracy: 0.8300\n",
      "Epoch 153/200\n",
      "39/39 [==============================] - 0s 2ms/step - loss: 0.4096 - binary_accuracy: 0.8218 - val_loss: 0.4091 - val_binary_accuracy: 0.8268\n",
      "Epoch 154/200\n",
      "39/39 [==============================] - 0s 2ms/step - loss: 0.4096 - binary_accuracy: 0.8196 - val_loss: 0.4073 - val_binary_accuracy: 0.8300\n",
      "Epoch 155/200\n",
      "39/39 [==============================] - 0s 2ms/step - loss: 0.4093 - binary_accuracy: 0.8214 - val_loss: 0.4082 - val_binary_accuracy: 0.8251\n",
      "Epoch 156/200\n",
      "39/39 [==============================] - 0s 2ms/step - loss: 0.4093 - binary_accuracy: 0.8208 - val_loss: 0.4075 - val_binary_accuracy: 0.8284\n",
      "Epoch 157/200\n",
      "39/39 [==============================] - 0s 2ms/step - loss: 0.4093 - binary_accuracy: 0.8200 - val_loss: 0.4082 - val_binary_accuracy: 0.8268\n",
      "Epoch 158/200\n",
      "39/39 [==============================] - 0s 2ms/step - loss: 0.4090 - binary_accuracy: 0.8212 - val_loss: 0.4077 - val_binary_accuracy: 0.8268\n",
      "Epoch 159/200\n",
      "39/39 [==============================] - 0s 2ms/step - loss: 0.4088 - binary_accuracy: 0.8218 - val_loss: 0.4076 - val_binary_accuracy: 0.8276\n",
      "Epoch 160/200\n",
      "39/39 [==============================] - 0s 2ms/step - loss: 0.4088 - binary_accuracy: 0.8229 - val_loss: 0.4079 - val_binary_accuracy: 0.8259\n",
      "Epoch 161/200\n",
      "39/39 [==============================] - 0s 2ms/step - loss: 0.4089 - binary_accuracy: 0.8231 - val_loss: 0.4091 - val_binary_accuracy: 0.8276\n",
      "Epoch 162/200\n",
      "39/39 [==============================] - 0s 2ms/step - loss: 0.4091 - binary_accuracy: 0.8212 - val_loss: 0.4077 - val_binary_accuracy: 0.8284\n",
      "Epoch 163/200\n",
      "39/39 [==============================] - 0s 2ms/step - loss: 0.4083 - binary_accuracy: 0.8212 - val_loss: 0.4074 - val_binary_accuracy: 0.8292\n",
      "Epoch 164/200\n",
      "39/39 [==============================] - 0s 2ms/step - loss: 0.4083 - binary_accuracy: 0.8225 - val_loss: 0.4074 - val_binary_accuracy: 0.8284\n",
      "Epoch 165/200\n",
      "39/39 [==============================] - 0s 2ms/step - loss: 0.4081 - binary_accuracy: 0.8216 - val_loss: 0.4070 - val_binary_accuracy: 0.8300\n",
      "Epoch 166/200\n",
      "39/39 [==============================] - 0s 2ms/step - loss: 0.4081 - binary_accuracy: 0.8225 - val_loss: 0.4072 - val_binary_accuracy: 0.8284\n",
      "Epoch 167/200\n",
      "39/39 [==============================] - 0s 2ms/step - loss: 0.4078 - binary_accuracy: 0.8218 - val_loss: 0.4071 - val_binary_accuracy: 0.8300\n",
      "Epoch 168/200\n",
      "39/39 [==============================] - 0s 2ms/step - loss: 0.4078 - binary_accuracy: 0.8202 - val_loss: 0.4068 - val_binary_accuracy: 0.8284\n",
      "Epoch 169/200\n",
      "39/39 [==============================] - 0s 2ms/step - loss: 0.4082 - binary_accuracy: 0.8218 - val_loss: 0.4066 - val_binary_accuracy: 0.8284\n",
      "Epoch 170/200\n",
      "39/39 [==============================] - 0s 2ms/step - loss: 0.4079 - binary_accuracy: 0.8227 - val_loss: 0.4078 - val_binary_accuracy: 0.8292\n",
      "Epoch 171/200\n",
      "39/39 [==============================] - 0s 2ms/step - loss: 0.4074 - binary_accuracy: 0.8235 - val_loss: 0.4074 - val_binary_accuracy: 0.8292\n",
      "Epoch 172/200\n",
      "39/39 [==============================] - 0s 2ms/step - loss: 0.4073 - binary_accuracy: 0.8218 - val_loss: 0.4072 - val_binary_accuracy: 0.8284\n",
      "Epoch 173/200\n",
      "39/39 [==============================] - 0s 2ms/step - loss: 0.4074 - binary_accuracy: 0.8194 - val_loss: 0.4075 - val_binary_accuracy: 0.8292\n",
      "Epoch 174/200\n",
      "39/39 [==============================] - 0s 2ms/step - loss: 0.4069 - binary_accuracy: 0.8225 - val_loss: 0.4080 - val_binary_accuracy: 0.8300\n",
      "Epoch 175/200\n",
      "39/39 [==============================] - 0s 2ms/step - loss: 0.4069 - binary_accuracy: 0.8225 - val_loss: 0.4076 - val_binary_accuracy: 0.8292\n",
      "Epoch 176/200\n",
      "39/39 [==============================] - 0s 2ms/step - loss: 0.4067 - binary_accuracy: 0.8229 - val_loss: 0.4073 - val_binary_accuracy: 0.8284\n",
      "Epoch 177/200\n",
      "39/39 [==============================] - 0s 2ms/step - loss: 0.4068 - binary_accuracy: 0.8227 - val_loss: 0.4074 - val_binary_accuracy: 0.8284\n",
      "Epoch 178/200\n",
      "39/39 [==============================] - 0s 2ms/step - loss: 0.4067 - binary_accuracy: 0.8222 - val_loss: 0.4084 - val_binary_accuracy: 0.8284\n",
      "Epoch 179/200\n",
      "39/39 [==============================] - 0s 2ms/step - loss: 0.4065 - binary_accuracy: 0.8235 - val_loss: 0.4073 - val_binary_accuracy: 0.8292\n",
      "Epoch 180/200\n",
      "39/39 [==============================] - 0s 2ms/step - loss: 0.4066 - binary_accuracy: 0.8218 - val_loss: 0.4075 - val_binary_accuracy: 0.8292\n",
      "Epoch 181/200\n",
      "39/39 [==============================] - 0s 2ms/step - loss: 0.4066 - binary_accuracy: 0.8222 - val_loss: 0.4078 - val_binary_accuracy: 0.8284\n",
      "Epoch 182/200\n",
      "39/39 [==============================] - 0s 2ms/step - loss: 0.4062 - binary_accuracy: 0.8235 - val_loss: 0.4075 - val_binary_accuracy: 0.8292\n",
      "Epoch 183/200\n",
      "39/39 [==============================] - 0s 2ms/step - loss: 0.4063 - binary_accuracy: 0.8222 - val_loss: 0.4074 - val_binary_accuracy: 0.8292\n",
      "Epoch 184/200\n",
      "39/39 [==============================] - 0s 2ms/step - loss: 0.4063 - binary_accuracy: 0.8229 - val_loss: 0.4073 - val_binary_accuracy: 0.8292\n",
      "Epoch 185/200\n",
      "39/39 [==============================] - 0s 2ms/step - loss: 0.4063 - binary_accuracy: 0.8235 - val_loss: 0.4075 - val_binary_accuracy: 0.8300\n",
      "Epoch 186/200\n",
      "39/39 [==============================] - 0s 2ms/step - loss: 0.4059 - binary_accuracy: 0.8222 - val_loss: 0.4075 - val_binary_accuracy: 0.8300\n",
      "Epoch 187/200\n",
      "39/39 [==============================] - 0s 2ms/step - loss: 0.4059 - binary_accuracy: 0.8233 - val_loss: 0.4070 - val_binary_accuracy: 0.8268\n",
      "Epoch 188/200\n",
      "39/39 [==============================] - 0s 2ms/step - loss: 0.4058 - binary_accuracy: 0.8231 - val_loss: 0.4077 - val_binary_accuracy: 0.8292\n",
      "Epoch 189/200\n",
      "39/39 [==============================] - 0s 2ms/step - loss: 0.4057 - binary_accuracy: 0.8227 - val_loss: 0.4078 - val_binary_accuracy: 0.8300\n",
      "Epoch 190/200\n",
      "39/39 [==============================] - 0s 2ms/step - loss: 0.4058 - binary_accuracy: 0.8208 - val_loss: 0.4073 - val_binary_accuracy: 0.8268\n",
      "Epoch 191/200\n",
      "39/39 [==============================] - 0s 2ms/step - loss: 0.4056 - binary_accuracy: 0.8227 - val_loss: 0.4074 - val_binary_accuracy: 0.8292\n",
      "Epoch 192/200\n",
      "39/39 [==============================] - 0s 2ms/step - loss: 0.4054 - binary_accuracy: 0.8231 - val_loss: 0.4075 - val_binary_accuracy: 0.8317\n",
      "Epoch 193/200\n",
      "39/39 [==============================] - 0s 2ms/step - loss: 0.4055 - binary_accuracy: 0.8229 - val_loss: 0.4086 - val_binary_accuracy: 0.8300\n",
      "Epoch 194/200\n",
      "39/39 [==============================] - 0s 2ms/step - loss: 0.4054 - binary_accuracy: 0.8220 - val_loss: 0.4070 - val_binary_accuracy: 0.8259\n",
      "Epoch 195/200\n",
      "39/39 [==============================] - 0s 2ms/step - loss: 0.4052 - binary_accuracy: 0.8233 - val_loss: 0.4076 - val_binary_accuracy: 0.8317\n",
      "Epoch 196/200\n",
      "39/39 [==============================] - 0s 2ms/step - loss: 0.4052 - binary_accuracy: 0.8222 - val_loss: 0.4071 - val_binary_accuracy: 0.8276\n",
      "Epoch 197/200\n",
      "39/39 [==============================] - 0s 2ms/step - loss: 0.4049 - binary_accuracy: 0.8233 - val_loss: 0.4075 - val_binary_accuracy: 0.8317\n",
      "Epoch 198/200\n",
      "39/39 [==============================] - 0s 2ms/step - loss: 0.4048 - binary_accuracy: 0.8229 - val_loss: 0.4072 - val_binary_accuracy: 0.8284\n",
      "Epoch 199/200\n",
      "39/39 [==============================] - 0s 2ms/step - loss: 0.4049 - binary_accuracy: 0.8231 - val_loss: 0.4085 - val_binary_accuracy: 0.8309\n",
      "Epoch 200/200\n",
      "39/39 [==============================] - 0s 2ms/step - loss: 0.4045 - binary_accuracy: 0.8229 - val_loss: 0.4069 - val_binary_accuracy: 0.8268\n"
     ]
    }
   ],
   "source": [
    "history = lr_model.fit(\n",
    "    X_train,\n",
    "    Y_train,\n",
    "    epochs=200,\n",
    "    batch_size=128,\n",
    "    validation_split=0.2,\n",
    "    verbose=1\n",
    ")"
   ]
  },
  {
   "cell_type": "code",
   "execution_count": 129,
   "metadata": {},
   "outputs": [
    {
     "data": {
      "text/html": [
       "<div>\n",
       "<style scoped>\n",
       "    .dataframe tbody tr th:only-of-type {\n",
       "        vertical-align: middle;\n",
       "    }\n",
       "\n",
       "    .dataframe tbody tr th {\n",
       "        vertical-align: top;\n",
       "    }\n",
       "\n",
       "    .dataframe thead th {\n",
       "        text-align: right;\n",
       "    }\n",
       "</style>\n",
       "<table border=\"1\" class=\"dataframe\">\n",
       "  <thead>\n",
       "    <tr style=\"text-align: right;\">\n",
       "      <th></th>\n",
       "      <th>loss</th>\n",
       "      <th>binary_accuracy</th>\n",
       "      <th>val_loss</th>\n",
       "      <th>val_binary_accuracy</th>\n",
       "      <th>epoch</th>\n",
       "    </tr>\n",
       "  </thead>\n",
       "  <tbody>\n",
       "    <tr>\n",
       "      <th>195</th>\n",
       "      <td>0.405181</td>\n",
       "      <td>0.822250</td>\n",
       "      <td>0.407135</td>\n",
       "      <td>0.827586</td>\n",
       "      <td>195</td>\n",
       "    </tr>\n",
       "    <tr>\n",
       "      <th>196</th>\n",
       "      <td>0.404937</td>\n",
       "      <td>0.823276</td>\n",
       "      <td>0.407452</td>\n",
       "      <td>0.831691</td>\n",
       "      <td>196</td>\n",
       "    </tr>\n",
       "    <tr>\n",
       "      <th>197</th>\n",
       "      <td>0.404840</td>\n",
       "      <td>0.822865</td>\n",
       "      <td>0.407193</td>\n",
       "      <td>0.828407</td>\n",
       "      <td>197</td>\n",
       "    </tr>\n",
       "    <tr>\n",
       "      <th>198</th>\n",
       "      <td>0.404903</td>\n",
       "      <td>0.823071</td>\n",
       "      <td>0.408509</td>\n",
       "      <td>0.830870</td>\n",
       "      <td>198</td>\n",
       "    </tr>\n",
       "    <tr>\n",
       "      <th>199</th>\n",
       "      <td>0.404524</td>\n",
       "      <td>0.822865</td>\n",
       "      <td>0.406936</td>\n",
       "      <td>0.826765</td>\n",
       "      <td>199</td>\n",
       "    </tr>\n",
       "  </tbody>\n",
       "</table>\n",
       "</div>"
      ],
      "text/plain": [
       "         loss  binary_accuracy  val_loss  val_binary_accuracy  epoch\n",
       "195  0.405181         0.822250  0.407135             0.827586    195\n",
       "196  0.404937         0.823276  0.407452             0.831691    196\n",
       "197  0.404840         0.822865  0.407193             0.828407    197\n",
       "198  0.404903         0.823071  0.408509             0.830870    198\n",
       "199  0.404524         0.822865  0.406936             0.826765    199"
      ]
     },
     "execution_count": 129,
     "metadata": {},
     "output_type": "execute_result"
    }
   ],
   "source": [
    "history_df = pd.DataFrame(history.history)\n",
    "history_df['epoch'] = history.epoch\n",
    "history_df.tail()"
   ]
  },
  {
   "cell_type": "code",
   "execution_count": 130,
   "metadata": {},
   "outputs": [
    {
     "data": {
      "text/plain": [
       "[<matplotlib.lines.Line2D at 0x7f668aa31b00>]"
      ]
     },
     "execution_count": 130,
     "metadata": {},
     "output_type": "execute_result"
    },
    {
     "data": {
      "image/png": "[encoded data removed]",
      "text/plain": [
       "<Figure size 432x288 with 1 Axes>"
      ]
     },
     "metadata": {
      "needs_background": "light"
     },
     "output_type": "display_data"
    }
   ],
   "source": [
    "plt.xlabel('epochs')\n",
    "plt.ylabel('loss')\n",
    "plt.plot(history_df['epoch'], history_df['loss'], label='Training')\n",
    "plt.plot(history_df['epoch'], history_df['val_loss'], label='Validation', linestyle='dashed')"
   ]
  },
  {
   "cell_type": "markdown",
   "metadata": {},
   "source": [
    "### Model Evaluation"
   ]
  },
  {
   "cell_type": "code",
   "execution_count": 131,
   "metadata": {},
   "outputs": [
    {
     "name": "stdout",
     "output_type": "stream",
     "text": [
      "48/48 [==============================] - 0s 921us/step - loss: 0.3930 - binary_accuracy: 0.8313\n"
     ]
    },
    {
     "data": {
      "text/plain": [
       "[0.39298349618911743, 0.8312541246414185]"
      ]
     },
     "execution_count": 131,
     "metadata": {},
     "output_type": "execute_result"
    }
   ],
   "source": [
    "lr_model.evaluate(X_val, Y_val)"
   ]
  },
  {
   "cell_type": "code",
   "execution_count": 132,
   "metadata": {},
   "outputs": [],
   "source": [
    "pred = lr_model.predict(X_val)\n",
    "pred = pred > .5\n",
    "pred =(pred[:,0]).astype(int)\n"
   ]
  },
  {
   "cell_type": "code",
   "execution_count": 133,
   "metadata": {},
   "outputs": [
    {
     "name": "stdout",
     "output_type": "stream",
     "text": [
      "True Positive:  535\n",
      "True Negative:  731\n",
      "False Positive:  83\n",
      "false Negative:  174\n",
      "Precision:  0.8656957928802589\n",
      "Recall:  0.7545839210155149\n",
      "F1 Score:  0.8063300678221553\n"
     ]
    }
   ],
   "source": [
    "tp = np.logical_and(pred == 1, Y_val == 1).sum()  # true positive\n",
    "tn = np.logical_and(pred == 0, Y_val == 0).sum()  # true negative\n",
    "fp = np.logical_and(pred == 1, Y_val == 0).sum()  # false positive\n",
    "fn = np.logical_and(pred == 0, Y_val == 1).sum()  # false negative\n",
    "\n",
    "precision = tp/(tp+fp)\n",
    "recall = tp/(tp+fn)\n",
    "\n",
    "f1_score = 2*(precision*recall)/(precision+recall)\n",
    "\n",
    "print(\"True Positive: \", tp)\n",
    "print(\"True Negative: \", tn)\n",
    "print(\"False Positive: \", fp)\n",
    "print(\"false Negative: \", fn)\n",
    "print(\"Precision: \", precision)\n",
    "print(\"Recall: \", recall)\n",
    "print(\"F1 Score: \", f1_score)\n"
   ]
  },
  {
   "cell_type": "code",
   "execution_count": 134,
   "metadata": {},
   "outputs": [],
   "source": [
    "def displayConfusionMatrix(y_test, pred, dataset):\n",
    "    disp = ConfusionMatrixDisplay.from_predictions(\n",
    "        y_test,\n",
    "        pred,\n",
    "        display_labels=[\"Not Disaster\",\"Disaster\"],\n",
    "        cmap=plt.cm.Blues\n",
    "    )\n",
    "\n",
    "    tn, fp, fn, tp = confusion_matrix(y_test, pred).ravel()\n",
    "    f1_score = tp / (tp+((fn+fp)/2))\n",
    "\n",
    "    disp.ax_.set_title(\"Confusion Matrix on \" + dataset + \" Dataset -- F1 Score: \" + str(f1_score.round(2)))"
   ]
  },
  {
   "cell_type": "code",
   "execution_count": 135,
   "metadata": {},
   "outputs": [
    {
     "data": {
      "image/png": "[encoded data removed]",
      "text/plain": [
       "<Figure size 432x288 with 2 Axes>"
      ]
     },
     "metadata": {
      "needs_background": "light"
     },
     "output_type": "display_data"
    }
   ],
   "source": [
    "displayConfusionMatrix(Y_val, pred, \"Validation\")"
   ]
  },
  {
   "cell_type": "markdown",
   "metadata": {},
   "source": [
    "### Inference"
   ]
  },
  {
   "cell_type": "code",
   "execution_count": 136,
   "metadata": {},
   "outputs": [
    {
     "name": "stdout",
     "output_type": "stream",
     "text": [
      "shape of test_padded:  (3263, 157)\n"
     ]
    }
   ],
   "source": [
    "test_tokenized = tokenize(df_test[\"text\"])\n",
    "test_padded = pad_tokens(test_tokenized, max_len)\n",
    "print(\"shape of test_padded: \", test_padded.shape)"
   ]
  },
  {
   "cell_type": "code",
   "execution_count": 137,
   "metadata": {},
   "outputs": [
    {
     "name": "stdout",
     "output_type": "stream",
     "text": [
      "shape of test attention mask:  (3263, 157)\n"
     ]
    }
   ],
   "source": [
    "test_attention_mask = get_attention_mask(test_padded)\n",
    "print(\"shape of test attention mask: \", test_attention_mask.shape)"
   ]
  },
  {
   "cell_type": "code",
   "execution_count": 138,
   "metadata": {},
   "outputs": [],
   "source": [
    "test_input_ids = tf.convert_to_tensor(test_padded, dtype=tf.int32)\n",
    "test_attention_mask = tf.convert_to_tensor(test_attention_mask, dtype=tf.int32)"
   ]
  },
  {
   "cell_type": "code",
   "execution_count": 139,
   "metadata": {},
   "outputs": [
    {
     "name": "stdout",
     "output_type": "stream",
     "text": [
      "shape of test_feature vectors:  (3263, 768)\n"
     ]
    }
   ],
   "source": [
    "test_features = get_features(test_input_ids, test_attention_mask, \"data/E_test.npy\")\n",
    "print(\"shape of test_feature vectors: \", test_features.shape)"
   ]
  },
  {
   "cell_type": "code",
   "execution_count": 140,
   "metadata": {},
   "outputs": [],
   "source": [
    "X_test = test_features"
   ]
  },
  {
   "cell_type": "code",
   "execution_count": 141,
   "metadata": {},
   "outputs": [],
   "source": [
    "pred_test = lr_model.predict(X_test)\n",
    "pred_test = pred_test > .5\n",
    "pred_test =(pred_test[:,0]).astype(int)"
   ]
  },
  {
   "cell_type": "code",
   "execution_count": 142,
   "metadata": {},
   "outputs": [
    {
     "data": {
      "text/html": [
       "<div>\n",
       "<style scoped>\n",
       "    .dataframe tbody tr th:only-of-type {\n",
       "        vertical-align: middle;\n",
       "    }\n",
       "\n",
       "    .dataframe tbody tr th {\n",
       "        vertical-align: top;\n",
       "    }\n",
       "\n",
       "    .dataframe thead th {\n",
       "        text-align: right;\n",
       "    }\n",
       "</style>\n",
       "<table border=\"1\" class=\"dataframe\">\n",
       "  <thead>\n",
       "    <tr style=\"text-align: right;\">\n",
       "      <th></th>\n",
       "      <th>id</th>\n",
       "      <th>target</th>\n",
       "    </tr>\n",
       "  </thead>\n",
       "  <tbody>\n",
       "    <tr>\n",
       "      <th>0</th>\n",
       "      <td>0</td>\n",
       "      <td>0</td>\n",
       "    </tr>\n",
       "    <tr>\n",
       "      <th>1</th>\n",
       "      <td>2</td>\n",
       "      <td>0</td>\n",
       "    </tr>\n",
       "    <tr>\n",
       "      <th>2</th>\n",
       "      <td>3</td>\n",
       "      <td>0</td>\n",
       "    </tr>\n",
       "    <tr>\n",
       "      <th>3</th>\n",
       "      <td>9</td>\n",
       "      <td>0</td>\n",
       "    </tr>\n",
       "    <tr>\n",
       "      <th>4</th>\n",
       "      <td>11</td>\n",
       "      <td>0</td>\n",
       "    </tr>\n",
       "  </tbody>\n",
       "</table>\n",
       "</div>"
      ],
      "text/plain": [
       "   id  target\n",
       "0   0       0\n",
       "1   2       0\n",
       "2   3       0\n",
       "3   9       0\n",
       "4  11       0"
      ]
     },
     "execution_count": 142,
     "metadata": {},
     "output_type": "execute_result"
    }
   ],
   "source": [
    "sample_submission = pd.read_csv(\"data/sample_submission.csv\")\n",
    "sample_submission.head()"
   ]
  },
  {
   "cell_type": "code",
   "execution_count": 143,
   "metadata": {},
   "outputs": [
    {
     "data": {
      "text/html": [
       "<div>\n",
       "<style scoped>\n",
       "    .dataframe tbody tr th:only-of-type {\n",
       "        vertical-align: middle;\n",
       "    }\n",
       "\n",
       "    .dataframe tbody tr th {\n",
       "        vertical-align: top;\n",
       "    }\n",
       "\n",
       "    .dataframe thead th {\n",
       "        text-align: right;\n",
       "    }\n",
       "</style>\n",
       "<table border=\"1\" class=\"dataframe\">\n",
       "  <thead>\n",
       "    <tr style=\"text-align: right;\">\n",
       "      <th></th>\n",
       "      <th>id</th>\n",
       "      <th>target</th>\n",
       "    </tr>\n",
       "  </thead>\n",
       "  <tbody>\n",
       "    <tr>\n",
       "      <th>0</th>\n",
       "      <td>0</td>\n",
       "      <td>1</td>\n",
       "    </tr>\n",
       "    <tr>\n",
       "      <th>1</th>\n",
       "      <td>2</td>\n",
       "      <td>1</td>\n",
       "    </tr>\n",
       "    <tr>\n",
       "      <th>2</th>\n",
       "      <td>3</td>\n",
       "      <td>1</td>\n",
       "    </tr>\n",
       "    <tr>\n",
       "      <th>3</th>\n",
       "      <td>9</td>\n",
       "      <td>1</td>\n",
       "    </tr>\n",
       "    <tr>\n",
       "      <th>4</th>\n",
       "      <td>11</td>\n",
       "      <td>1</td>\n",
       "    </tr>\n",
       "  </tbody>\n",
       "</table>\n",
       "</div>"
      ],
      "text/plain": [
       "   id  target\n",
       "0   0       1\n",
       "1   2       1\n",
       "2   3       1\n",
       "3   9       1\n",
       "4  11       1"
      ]
     },
     "execution_count": 143,
     "metadata": {},
     "output_type": "execute_result"
    }
   ],
   "source": [
    "sample_submission[\"target\"] = pred_test\n",
    "sample_submission.head()"
   ]
  },
  {
   "cell_type": "code",
   "execution_count": 144,
   "metadata": {},
   "outputs": [
    {
     "data": {
      "text/html": [
       "<div>\n",
       "<style scoped>\n",
       "    .dataframe tbody tr th:only-of-type {\n",
       "        vertical-align: middle;\n",
       "    }\n",
       "\n",
       "    .dataframe tbody tr th {\n",
       "        vertical-align: top;\n",
       "    }\n",
       "\n",
       "    .dataframe thead th {\n",
       "        text-align: right;\n",
       "    }\n",
       "</style>\n",
       "<table border=\"1\" class=\"dataframe\">\n",
       "  <thead>\n",
       "    <tr style=\"text-align: right;\">\n",
       "      <th></th>\n",
       "      <th>id</th>\n",
       "      <th>target</th>\n",
       "    </tr>\n",
       "  </thead>\n",
       "  <tbody>\n",
       "    <tr>\n",
       "      <th>count</th>\n",
       "      <td>3263.000000</td>\n",
       "      <td>3263.000000</td>\n",
       "    </tr>\n",
       "    <tr>\n",
       "      <th>mean</th>\n",
       "      <td>5427.152927</td>\n",
       "      <td>0.362243</td>\n",
       "    </tr>\n",
       "    <tr>\n",
       "      <th>std</th>\n",
       "      <td>3146.427221</td>\n",
       "      <td>0.480722</td>\n",
       "    </tr>\n",
       "    <tr>\n",
       "      <th>min</th>\n",
       "      <td>0.000000</td>\n",
       "      <td>0.000000</td>\n",
       "    </tr>\n",
       "    <tr>\n",
       "      <th>25%</th>\n",
       "      <td>2683.000000</td>\n",
       "      <td>0.000000</td>\n",
       "    </tr>\n",
       "    <tr>\n",
       "      <th>50%</th>\n",
       "      <td>5500.000000</td>\n",
       "      <td>0.000000</td>\n",
       "    </tr>\n",
       "    <tr>\n",
       "      <th>75%</th>\n",
       "      <td>8176.000000</td>\n",
       "      <td>1.000000</td>\n",
       "    </tr>\n",
       "    <tr>\n",
       "      <th>max</th>\n",
       "      <td>10875.000000</td>\n",
       "      <td>1.000000</td>\n",
       "    </tr>\n",
       "  </tbody>\n",
       "</table>\n",
       "</div>"
      ],
      "text/plain": [
       "                 id       target\n",
       "count   3263.000000  3263.000000\n",
       "mean    5427.152927     0.362243\n",
       "std     3146.427221     0.480722\n",
       "min        0.000000     0.000000\n",
       "25%     2683.000000     0.000000\n",
       "50%     5500.000000     0.000000\n",
       "75%     8176.000000     1.000000\n",
       "max    10875.000000     1.000000"
      ]
     },
     "execution_count": 144,
     "metadata": {},
     "output_type": "execute_result"
    }
   ],
   "source": [
    "sample_submission.describe()"
   ]
  },
  {
   "cell_type": "code",
   "execution_count": 145,
   "metadata": {},
   "outputs": [],
   "source": [
    "sample_submission.to_csv(\"data/submission1.csv\", index=False)"
   ]
  }
 ],
 "metadata": {
  "kernelspec": {
   "display_name": "venvML",
   "language": "python",
   "name": "python3"
  },
  "language_info": {
   "codemirror_mode": {
    "name": "ipython",
    "version": 3
   },
   "file_extension": ".py",
   "mimetype": "text/x-python",
   "name": "python",
   "nbconvert_exporter": "python",
   "pygments_lexer": "ipython3",
   "version": "3.7.3"
  }
 },
 "nbformat": 4,
 "nbformat_minor": 2
}
