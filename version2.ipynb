{
 "cells": [
  {
   "cell_type": "markdown",
   "metadata": {},
   "source": [
    "# Kaggle - Natural Language Processing with Disaster Tweets\n",
    "### Predict which Tweets are about real disasters and which ones are not\n",
    "https://www.kaggle.com/competitions/nlp-getting-started/overview"
   ]
  },
  {
   "cell_type": "code",
   "execution_count": 392,
   "metadata": {},
   "outputs": [],
   "source": [
    "import numpy as np\n",
    "import pandas as pd\n",
    "import tensorflow as tf\n",
    "import transformers as ppb \n",
    "import matplotlib.pyplot as plt\n",
    "import os\n",
    "from tensorflow import keras\n",
    "from sklearn.metrics import ConfusionMatrixDisplay, confusion_matrix\n",
    "from sklearn.preprocessing import OneHotEncoder"
   ]
  },
  {
   "cell_type": "code",
   "execution_count": 393,
   "metadata": {},
   "outputs": [],
   "source": [
    "# load data\n",
    "df_train = pd.read_csv(\"data/train.csv\")\n",
    "df_test = pd.read_csv(\"data/test.csv\")"
   ]
  },
  {
   "cell_type": "code",
   "execution_count": 394,
   "metadata": {},
   "outputs": [
    {
     "name": "stdout",
     "output_type": "stream",
     "text": [
      "Training Set Shape = (7613, 5)\n",
      "Training Set Memory Usage = 0.29 MB\n",
      "Test Set Shape = (3263, 4)\n",
      "Test Set Memory Usage = 0.10 MB\n"
     ]
    }
   ],
   "source": [
    "print('Training Set Shape = {}'.format(df_train.shape))\n",
    "print('Training Set Memory Usage = {:.2f} MB'.format(df_train.memory_usage().sum() / 1024**2))\n",
    "print('Test Set Shape = {}'.format(df_test.shape))\n",
    "print('Test Set Memory Usage = {:.2f} MB'.format(df_test.memory_usage().sum() / 1024**2))"
   ]
  },
  {
   "cell_type": "code",
   "execution_count": 395,
   "metadata": {},
   "outputs": [
    {
     "data": {
      "text/html": [
       "<div>\n",
       "<style scoped>\n",
       "    .dataframe tbody tr th:only-of-type {\n",
       "        vertical-align: middle;\n",
       "    }\n",
       "\n",
       "    .dataframe tbody tr th {\n",
       "        vertical-align: top;\n",
       "    }\n",
       "\n",
       "    .dataframe thead th {\n",
       "        text-align: right;\n",
       "    }\n",
       "</style>\n",
       "<table border=\"1\" class=\"dataframe\">\n",
       "  <thead>\n",
       "    <tr style=\"text-align: right;\">\n",
       "      <th></th>\n",
       "      <th>id</th>\n",
       "      <th>keyword</th>\n",
       "      <th>location</th>\n",
       "      <th>text</th>\n",
       "      <th>target</th>\n",
       "    </tr>\n",
       "  </thead>\n",
       "  <tbody>\n",
       "    <tr>\n",
       "      <th>0</th>\n",
       "      <td>1</td>\n",
       "      <td>NaN</td>\n",
       "      <td>NaN</td>\n",
       "      <td>Our Deeds are the Reason of this #earthquake M...</td>\n",
       "      <td>1</td>\n",
       "    </tr>\n",
       "    <tr>\n",
       "      <th>1</th>\n",
       "      <td>4</td>\n",
       "      <td>NaN</td>\n",
       "      <td>NaN</td>\n",
       "      <td>Forest fire near La Ronge Sask. Canada</td>\n",
       "      <td>1</td>\n",
       "    </tr>\n",
       "    <tr>\n",
       "      <th>2</th>\n",
       "      <td>5</td>\n",
       "      <td>NaN</td>\n",
       "      <td>NaN</td>\n",
       "      <td>All residents asked to 'shelter in place' are ...</td>\n",
       "      <td>1</td>\n",
       "    </tr>\n",
       "    <tr>\n",
       "      <th>3</th>\n",
       "      <td>6</td>\n",
       "      <td>NaN</td>\n",
       "      <td>NaN</td>\n",
       "      <td>13,000 people receive #wildfires evacuation or...</td>\n",
       "      <td>1</td>\n",
       "    </tr>\n",
       "    <tr>\n",
       "      <th>4</th>\n",
       "      <td>7</td>\n",
       "      <td>NaN</td>\n",
       "      <td>NaN</td>\n",
       "      <td>Just got sent this photo from Ruby #Alaska as ...</td>\n",
       "      <td>1</td>\n",
       "    </tr>\n",
       "  </tbody>\n",
       "</table>\n",
       "</div>"
      ],
      "text/plain": [
       "   id keyword location                                               text  \\\n",
       "0   1     NaN      NaN  Our Deeds are the Reason of this #earthquake M...   \n",
       "1   4     NaN      NaN             Forest fire near La Ronge Sask. Canada   \n",
       "2   5     NaN      NaN  All residents asked to 'shelter in place' are ...   \n",
       "3   6     NaN      NaN  13,000 people receive #wildfires evacuation or...   \n",
       "4   7     NaN      NaN  Just got sent this photo from Ruby #Alaska as ...   \n",
       "\n",
       "   target  \n",
       "0       1  \n",
       "1       1  \n",
       "2       1  \n",
       "3       1  \n",
       "4       1  "
      ]
     },
     "execution_count": 395,
     "metadata": {},
     "output_type": "execute_result"
    }
   ],
   "source": [
    "df_train.head()"
   ]
  },
  {
   "cell_type": "code",
   "execution_count": 396,
   "metadata": {},
   "outputs": [
    {
     "data": {
      "text/html": [
       "<div>\n",
       "<style scoped>\n",
       "    .dataframe tbody tr th:only-of-type {\n",
       "        vertical-align: middle;\n",
       "    }\n",
       "\n",
       "    .dataframe tbody tr th {\n",
       "        vertical-align: top;\n",
       "    }\n",
       "\n",
       "    .dataframe thead th {\n",
       "        text-align: right;\n",
       "    }\n",
       "</style>\n",
       "<table border=\"1\" class=\"dataframe\">\n",
       "  <thead>\n",
       "    <tr style=\"text-align: right;\">\n",
       "      <th></th>\n",
       "      <th>id</th>\n",
       "      <th>keyword</th>\n",
       "      <th>location</th>\n",
       "      <th>text</th>\n",
       "    </tr>\n",
       "  </thead>\n",
       "  <tbody>\n",
       "    <tr>\n",
       "      <th>0</th>\n",
       "      <td>0</td>\n",
       "      <td>NaN</td>\n",
       "      <td>NaN</td>\n",
       "      <td>Just happened a terrible car crash</td>\n",
       "    </tr>\n",
       "    <tr>\n",
       "      <th>1</th>\n",
       "      <td>2</td>\n",
       "      <td>NaN</td>\n",
       "      <td>NaN</td>\n",
       "      <td>Heard about #earthquake is different cities, s...</td>\n",
       "    </tr>\n",
       "    <tr>\n",
       "      <th>2</th>\n",
       "      <td>3</td>\n",
       "      <td>NaN</td>\n",
       "      <td>NaN</td>\n",
       "      <td>there is a forest fire at spot pond, geese are...</td>\n",
       "    </tr>\n",
       "    <tr>\n",
       "      <th>3</th>\n",
       "      <td>9</td>\n",
       "      <td>NaN</td>\n",
       "      <td>NaN</td>\n",
       "      <td>Apocalypse lighting. #Spokane #wildfires</td>\n",
       "    </tr>\n",
       "    <tr>\n",
       "      <th>4</th>\n",
       "      <td>11</td>\n",
       "      <td>NaN</td>\n",
       "      <td>NaN</td>\n",
       "      <td>Typhoon Soudelor kills 28 in China and Taiwan</td>\n",
       "    </tr>\n",
       "  </tbody>\n",
       "</table>\n",
       "</div>"
      ],
      "text/plain": [
       "   id keyword location                                               text\n",
       "0   0     NaN      NaN                 Just happened a terrible car crash\n",
       "1   2     NaN      NaN  Heard about #earthquake is different cities, s...\n",
       "2   3     NaN      NaN  there is a forest fire at spot pond, geese are...\n",
       "3   9     NaN      NaN           Apocalypse lighting. #Spokane #wildfires\n",
       "4  11     NaN      NaN      Typhoon Soudelor kills 28 in China and Taiwan"
      ]
     },
     "execution_count": 396,
     "metadata": {},
     "output_type": "execute_result"
    }
   ],
   "source": [
    "df_test.head()"
   ]
  },
  {
   "cell_type": "markdown",
   "metadata": {},
   "source": [
    "### Text"
   ]
  },
  {
   "cell_type": "code",
   "execution_count": 397,
   "metadata": {},
   "outputs": [
    {
     "name": "stdout",
     "output_type": "stream",
     "text": [
      "Train Length Stat\n",
      "count    7613.000000\n",
      "mean      101.037436\n",
      "std        33.781325\n",
      "min         7.000000\n",
      "25%        78.000000\n",
      "50%       107.000000\n",
      "75%       133.000000\n",
      "max       157.000000\n",
      "Name: length, dtype: float64\n",
      "\n",
      "Test Length Stat\n",
      "count    3263.000000\n",
      "mean      102.108183\n",
      "std        33.972158\n",
      "min         5.000000\n",
      "25%        78.000000\n",
      "50%       109.000000\n",
      "75%       134.000000\n",
      "max       151.000000\n",
      "Name: length, dtype: float64\n"
     ]
    }
   ],
   "source": [
    "df_train[\"length\"] = df_train[\"text\"].apply(lambda x : len(x))\n",
    "df_test[\"length\"] = df_test[\"text\"].apply(lambda x : len(x))\n",
    "\n",
    "print(\"Train Length Stat\")\n",
    "print(df_train[\"length\"].describe())\n",
    "print()\n",
    "\n",
    "print(\"Test Length Stat\")\n",
    "print(df_test[\"length\"].describe())"
   ]
  },
  {
   "cell_type": "markdown",
   "metadata": {},
   "source": [
    "### Keyword"
   ]
  },
  {
   "cell_type": "code",
   "execution_count": 398,
   "metadata": {},
   "outputs": [
    {
     "data": {
      "text/html": [
       "<div>\n",
       "<style scoped>\n",
       "    .dataframe tbody tr th:only-of-type {\n",
       "        vertical-align: middle;\n",
       "    }\n",
       "\n",
       "    .dataframe tbody tr th {\n",
       "        vertical-align: top;\n",
       "    }\n",
       "\n",
       "    .dataframe thead tr th {\n",
       "        text-align: left;\n",
       "    }\n",
       "\n",
       "    .dataframe thead tr:last-of-type th {\n",
       "        text-align: right;\n",
       "    }\n",
       "</style>\n",
       "<table border=\"1\" class=\"dataframe\">\n",
       "  <thead>\n",
       "    <tr>\n",
       "      <th></th>\n",
       "      <th colspan=\"8\" halign=\"left\">id</th>\n",
       "      <th colspan=\"5\" halign=\"left\">target</th>\n",
       "      <th colspan=\"8\" halign=\"left\">length</th>\n",
       "    </tr>\n",
       "    <tr>\n",
       "      <th></th>\n",
       "      <th>count</th>\n",
       "      <th>mean</th>\n",
       "      <th>std</th>\n",
       "      <th>min</th>\n",
       "      <th>25%</th>\n",
       "      <th>50%</th>\n",
       "      <th>75%</th>\n",
       "      <th>max</th>\n",
       "      <th>count</th>\n",
       "      <th>mean</th>\n",
       "      <th>...</th>\n",
       "      <th>75%</th>\n",
       "      <th>max</th>\n",
       "      <th>count</th>\n",
       "      <th>mean</th>\n",
       "      <th>std</th>\n",
       "      <th>min</th>\n",
       "      <th>25%</th>\n",
       "      <th>50%</th>\n",
       "      <th>75%</th>\n",
       "      <th>max</th>\n",
       "    </tr>\n",
       "    <tr>\n",
       "      <th>keyword</th>\n",
       "      <th></th>\n",
       "      <th></th>\n",
       "      <th></th>\n",
       "      <th></th>\n",
       "      <th></th>\n",
       "      <th></th>\n",
       "      <th></th>\n",
       "      <th></th>\n",
       "      <th></th>\n",
       "      <th></th>\n",
       "      <th></th>\n",
       "      <th></th>\n",
       "      <th></th>\n",
       "      <th></th>\n",
       "      <th></th>\n",
       "      <th></th>\n",
       "      <th></th>\n",
       "      <th></th>\n",
       "      <th></th>\n",
       "      <th></th>\n",
       "      <th></th>\n",
       "    </tr>\n",
       "  </thead>\n",
       "  <tbody>\n",
       "    <tr>\n",
       "      <th>ablaze</th>\n",
       "      <td>36.0</td>\n",
       "      <td>70.388889</td>\n",
       "      <td>14.035216</td>\n",
       "      <td>48.0</td>\n",
       "      <td>58.50</td>\n",
       "      <td>69.5</td>\n",
       "      <td>81.25</td>\n",
       "      <td>95.0</td>\n",
       "      <td>36.0</td>\n",
       "      <td>0.361111</td>\n",
       "      <td>...</td>\n",
       "      <td>1.0</td>\n",
       "      <td>1.0</td>\n",
       "      <td>36.0</td>\n",
       "      <td>94.694444</td>\n",
       "      <td>32.535536</td>\n",
       "      <td>22.0</td>\n",
       "      <td>74.50</td>\n",
       "      <td>95.5</td>\n",
       "      <td>122.5</td>\n",
       "      <td>140.0</td>\n",
       "    </tr>\n",
       "    <tr>\n",
       "      <th>accident</th>\n",
       "      <td>35.0</td>\n",
       "      <td>121.800000</td>\n",
       "      <td>15.118746</td>\n",
       "      <td>96.0</td>\n",
       "      <td>109.50</td>\n",
       "      <td>121.0</td>\n",
       "      <td>134.50</td>\n",
       "      <td>145.0</td>\n",
       "      <td>35.0</td>\n",
       "      <td>0.685714</td>\n",
       "      <td>...</td>\n",
       "      <td>1.0</td>\n",
       "      <td>1.0</td>\n",
       "      <td>35.0</td>\n",
       "      <td>100.085714</td>\n",
       "      <td>34.494135</td>\n",
       "      <td>35.0</td>\n",
       "      <td>73.00</td>\n",
       "      <td>97.0</td>\n",
       "      <td>136.0</td>\n",
       "      <td>142.0</td>\n",
       "    </tr>\n",
       "    <tr>\n",
       "      <th>aftershock</th>\n",
       "      <td>34.0</td>\n",
       "      <td>171.323529</td>\n",
       "      <td>13.975564</td>\n",
       "      <td>146.0</td>\n",
       "      <td>160.25</td>\n",
       "      <td>171.5</td>\n",
       "      <td>182.75</td>\n",
       "      <td>195.0</td>\n",
       "      <td>34.0</td>\n",
       "      <td>0.000000</td>\n",
       "      <td>...</td>\n",
       "      <td>0.0</td>\n",
       "      <td>0.0</td>\n",
       "      <td>34.0</td>\n",
       "      <td>101.205882</td>\n",
       "      <td>37.767855</td>\n",
       "      <td>27.0</td>\n",
       "      <td>69.75</td>\n",
       "      <td>112.0</td>\n",
       "      <td>136.0</td>\n",
       "      <td>139.0</td>\n",
       "    </tr>\n",
       "    <tr>\n",
       "      <th>airplane%20accident</th>\n",
       "      <td>35.0</td>\n",
       "      <td>220.142857</td>\n",
       "      <td>15.406536</td>\n",
       "      <td>196.0</td>\n",
       "      <td>208.50</td>\n",
       "      <td>219.0</td>\n",
       "      <td>233.50</td>\n",
       "      <td>245.0</td>\n",
       "      <td>35.0</td>\n",
       "      <td>0.857143</td>\n",
       "      <td>...</td>\n",
       "      <td>1.0</td>\n",
       "      <td>1.0</td>\n",
       "      <td>35.0</td>\n",
       "      <td>106.400000</td>\n",
       "      <td>30.154699</td>\n",
       "      <td>26.0</td>\n",
       "      <td>81.50</td>\n",
       "      <td>110.0</td>\n",
       "      <td>136.0</td>\n",
       "      <td>140.0</td>\n",
       "    </tr>\n",
       "    <tr>\n",
       "      <th>ambulance</th>\n",
       "      <td>38.0</td>\n",
       "      <td>269.052632</td>\n",
       "      <td>14.101845</td>\n",
       "      <td>246.0</td>\n",
       "      <td>258.50</td>\n",
       "      <td>268.5</td>\n",
       "      <td>279.75</td>\n",
       "      <td>294.0</td>\n",
       "      <td>38.0</td>\n",
       "      <td>0.526316</td>\n",
       "      <td>...</td>\n",
       "      <td>1.0</td>\n",
       "      <td>1.0</td>\n",
       "      <td>38.0</td>\n",
       "      <td>98.394737</td>\n",
       "      <td>22.902307</td>\n",
       "      <td>34.0</td>\n",
       "      <td>87.00</td>\n",
       "      <td>103.0</td>\n",
       "      <td>110.0</td>\n",
       "      <td>138.0</td>\n",
       "    </tr>\n",
       "    <tr>\n",
       "      <th>...</th>\n",
       "      <td>...</td>\n",
       "      <td>...</td>\n",
       "      <td>...</td>\n",
       "      <td>...</td>\n",
       "      <td>...</td>\n",
       "      <td>...</td>\n",
       "      <td>...</td>\n",
       "      <td>...</td>\n",
       "      <td>...</td>\n",
       "      <td>...</td>\n",
       "      <td>...</td>\n",
       "      <td>...</td>\n",
       "      <td>...</td>\n",
       "      <td>...</td>\n",
       "      <td>...</td>\n",
       "      <td>...</td>\n",
       "      <td>...</td>\n",
       "      <td>...</td>\n",
       "      <td>...</td>\n",
       "      <td>...</td>\n",
       "      <td>...</td>\n",
       "    </tr>\n",
       "    <tr>\n",
       "      <th>wounded</th>\n",
       "      <td>37.0</td>\n",
       "      <td>10609.135135</td>\n",
       "      <td>14.491688</td>\n",
       "      <td>10585.0</td>\n",
       "      <td>10598.00</td>\n",
       "      <td>10609.0</td>\n",
       "      <td>10622.00</td>\n",
       "      <td>10632.0</td>\n",
       "      <td>37.0</td>\n",
       "      <td>0.702703</td>\n",
       "      <td>...</td>\n",
       "      <td>1.0</td>\n",
       "      <td>1.0</td>\n",
       "      <td>37.0</td>\n",
       "      <td>111.054054</td>\n",
       "      <td>29.959181</td>\n",
       "      <td>52.0</td>\n",
       "      <td>88.00</td>\n",
       "      <td>132.0</td>\n",
       "      <td>136.0</td>\n",
       "      <td>145.0</td>\n",
       "    </tr>\n",
       "    <tr>\n",
       "      <th>wounds</th>\n",
       "      <td>33.0</td>\n",
       "      <td>10662.393939</td>\n",
       "      <td>14.225724</td>\n",
       "      <td>10636.0</td>\n",
       "      <td>10651.00</td>\n",
       "      <td>10663.0</td>\n",
       "      <td>10675.00</td>\n",
       "      <td>10684.0</td>\n",
       "      <td>33.0</td>\n",
       "      <td>0.303030</td>\n",
       "      <td>...</td>\n",
       "      <td>1.0</td>\n",
       "      <td>1.0</td>\n",
       "      <td>33.0</td>\n",
       "      <td>103.363636</td>\n",
       "      <td>33.620881</td>\n",
       "      <td>18.0</td>\n",
       "      <td>80.00</td>\n",
       "      <td>114.0</td>\n",
       "      <td>133.0</td>\n",
       "      <td>146.0</td>\n",
       "    </tr>\n",
       "    <tr>\n",
       "      <th>wreck</th>\n",
       "      <td>37.0</td>\n",
       "      <td>10708.513514</td>\n",
       "      <td>15.230856</td>\n",
       "      <td>10685.0</td>\n",
       "      <td>10695.00</td>\n",
       "      <td>10708.0</td>\n",
       "      <td>10722.00</td>\n",
       "      <td>10733.0</td>\n",
       "      <td>37.0</td>\n",
       "      <td>0.189189</td>\n",
       "      <td>...</td>\n",
       "      <td>0.0</td>\n",
       "      <td>1.0</td>\n",
       "      <td>37.0</td>\n",
       "      <td>88.540541</td>\n",
       "      <td>35.934040</td>\n",
       "      <td>12.0</td>\n",
       "      <td>63.00</td>\n",
       "      <td>85.0</td>\n",
       "      <td>121.0</td>\n",
       "      <td>140.0</td>\n",
       "    </tr>\n",
       "    <tr>\n",
       "      <th>wreckage</th>\n",
       "      <td>39.0</td>\n",
       "      <td>10759.717949</td>\n",
       "      <td>14.730828</td>\n",
       "      <td>10735.0</td>\n",
       "      <td>10747.50</td>\n",
       "      <td>10760.0</td>\n",
       "      <td>10771.50</td>\n",
       "      <td>10784.0</td>\n",
       "      <td>39.0</td>\n",
       "      <td>1.000000</td>\n",
       "      <td>...</td>\n",
       "      <td>1.0</td>\n",
       "      <td>1.0</td>\n",
       "      <td>39.0</td>\n",
       "      <td>122.256410</td>\n",
       "      <td>24.763851</td>\n",
       "      <td>60.0</td>\n",
       "      <td>107.00</td>\n",
       "      <td>136.0</td>\n",
       "      <td>136.0</td>\n",
       "      <td>139.0</td>\n",
       "    </tr>\n",
       "    <tr>\n",
       "      <th>wrecked</th>\n",
       "      <td>39.0</td>\n",
       "      <td>10810.692308</td>\n",
       "      <td>15.178159</td>\n",
       "      <td>10785.0</td>\n",
       "      <td>10798.50</td>\n",
       "      <td>10812.0</td>\n",
       "      <td>10823.50</td>\n",
       "      <td>10834.0</td>\n",
       "      <td>39.0</td>\n",
       "      <td>0.076923</td>\n",
       "      <td>...</td>\n",
       "      <td>0.0</td>\n",
       "      <td>1.0</td>\n",
       "      <td>39.0</td>\n",
       "      <td>77.153846</td>\n",
       "      <td>32.106352</td>\n",
       "      <td>17.0</td>\n",
       "      <td>48.50</td>\n",
       "      <td>80.0</td>\n",
       "      <td>102.0</td>\n",
       "      <td>137.0</td>\n",
       "    </tr>\n",
       "  </tbody>\n",
       "</table>\n",
       "<p>221 rows × 24 columns</p>\n",
       "</div>"
      ],
      "text/plain": [
       "                       id                                              \\\n",
       "                    count          mean        std      min       25%   \n",
       "keyword                                                                 \n",
       "ablaze               36.0     70.388889  14.035216     48.0     58.50   \n",
       "accident             35.0    121.800000  15.118746     96.0    109.50   \n",
       "aftershock           34.0    171.323529  13.975564    146.0    160.25   \n",
       "airplane%20accident  35.0    220.142857  15.406536    196.0    208.50   \n",
       "ambulance            38.0    269.052632  14.101845    246.0    258.50   \n",
       "...                   ...           ...        ...      ...       ...   \n",
       "wounded              37.0  10609.135135  14.491688  10585.0  10598.00   \n",
       "wounds               33.0  10662.393939  14.225724  10636.0  10651.00   \n",
       "wreck                37.0  10708.513514  15.230856  10685.0  10695.00   \n",
       "wreckage             39.0  10759.717949  14.730828  10735.0  10747.50   \n",
       "wrecked              39.0  10810.692308  15.178159  10785.0  10798.50   \n",
       "\n",
       "                                                target            ...       \\\n",
       "                         50%       75%      max  count      mean  ...  75%   \n",
       "keyword                                                           ...        \n",
       "ablaze                  69.5     81.25     95.0   36.0  0.361111  ...  1.0   \n",
       "accident               121.0    134.50    145.0   35.0  0.685714  ...  1.0   \n",
       "aftershock             171.5    182.75    195.0   34.0  0.000000  ...  0.0   \n",
       "airplane%20accident    219.0    233.50    245.0   35.0  0.857143  ...  1.0   \n",
       "ambulance              268.5    279.75    294.0   38.0  0.526316  ...  1.0   \n",
       "...                      ...       ...      ...    ...       ...  ...  ...   \n",
       "wounded              10609.0  10622.00  10632.0   37.0  0.702703  ...  1.0   \n",
       "wounds               10663.0  10675.00  10684.0   33.0  0.303030  ...  1.0   \n",
       "wreck                10708.0  10722.00  10733.0   37.0  0.189189  ...  0.0   \n",
       "wreckage             10760.0  10771.50  10784.0   39.0  1.000000  ...  1.0   \n",
       "wrecked              10812.0  10823.50  10834.0   39.0  0.076923  ...  0.0   \n",
       "\n",
       "                         length                                              \\\n",
       "                     max  count        mean        std   min     25%    50%   \n",
       "keyword                                                                       \n",
       "ablaze               1.0   36.0   94.694444  32.535536  22.0   74.50   95.5   \n",
       "accident             1.0   35.0  100.085714  34.494135  35.0   73.00   97.0   \n",
       "aftershock           0.0   34.0  101.205882  37.767855  27.0   69.75  112.0   \n",
       "airplane%20accident  1.0   35.0  106.400000  30.154699  26.0   81.50  110.0   \n",
       "ambulance            1.0   38.0   98.394737  22.902307  34.0   87.00  103.0   \n",
       "...                  ...    ...         ...        ...   ...     ...    ...   \n",
       "wounded              1.0   37.0  111.054054  29.959181  52.0   88.00  132.0   \n",
       "wounds               1.0   33.0  103.363636  33.620881  18.0   80.00  114.0   \n",
       "wreck                1.0   37.0   88.540541  35.934040  12.0   63.00   85.0   \n",
       "wreckage             1.0   39.0  122.256410  24.763851  60.0  107.00  136.0   \n",
       "wrecked              1.0   39.0   77.153846  32.106352  17.0   48.50   80.0   \n",
       "\n",
       "                                   \n",
       "                       75%    max  \n",
       "keyword                            \n",
       "ablaze               122.5  140.0  \n",
       "accident             136.0  142.0  \n",
       "aftershock           136.0  139.0  \n",
       "airplane%20accident  136.0  140.0  \n",
       "ambulance            110.0  138.0  \n",
       "...                    ...    ...  \n",
       "wounded              136.0  145.0  \n",
       "wounds               133.0  146.0  \n",
       "wreck                121.0  140.0  \n",
       "wreckage             136.0  139.0  \n",
       "wrecked              102.0  137.0  \n",
       "\n",
       "[221 rows x 24 columns]"
      ]
     },
     "execution_count": 398,
     "metadata": {},
     "output_type": "execute_result"
    }
   ],
   "source": [
    "df_train.groupby([\"keyword\"]).describe()"
   ]
  },
  {
   "cell_type": "code",
   "execution_count": 399,
   "metadata": {},
   "outputs": [
    {
     "data": {
      "text/plain": [
       "keyword\n",
       "ablaze                 36\n",
       "accident               35\n",
       "aftershock             34\n",
       "airplane%20accident    35\n",
       "ambulance              38\n",
       "                       ..\n",
       "wounded                37\n",
       "wounds                 33\n",
       "wreck                  37\n",
       "wreckage               39\n",
       "wrecked                39\n",
       "Name: keyword, Length: 221, dtype: int64"
      ]
     },
     "execution_count": 399,
     "metadata": {},
     "output_type": "execute_result"
    }
   ],
   "source": [
    "df_train.groupby([\"keyword\"])[\"keyword\"].count()"
   ]
  },
  {
   "cell_type": "code",
   "execution_count": 400,
   "metadata": {},
   "outputs": [
    {
     "data": {
      "text/html": [
       "<div>\n",
       "<style scoped>\n",
       "    .dataframe tbody tr th:only-of-type {\n",
       "        vertical-align: middle;\n",
       "    }\n",
       "\n",
       "    .dataframe tbody tr th {\n",
       "        vertical-align: top;\n",
       "    }\n",
       "\n",
       "    .dataframe thead tr th {\n",
       "        text-align: left;\n",
       "    }\n",
       "\n",
       "    .dataframe thead tr:last-of-type th {\n",
       "        text-align: right;\n",
       "    }\n",
       "</style>\n",
       "<table border=\"1\" class=\"dataframe\">\n",
       "  <thead>\n",
       "    <tr>\n",
       "      <th></th>\n",
       "      <th colspan=\"8\" halign=\"left\">id</th>\n",
       "      <th colspan=\"8\" halign=\"left\">length</th>\n",
       "    </tr>\n",
       "    <tr>\n",
       "      <th></th>\n",
       "      <th>count</th>\n",
       "      <th>mean</th>\n",
       "      <th>std</th>\n",
       "      <th>min</th>\n",
       "      <th>25%</th>\n",
       "      <th>50%</th>\n",
       "      <th>75%</th>\n",
       "      <th>max</th>\n",
       "      <th>count</th>\n",
       "      <th>mean</th>\n",
       "      <th>std</th>\n",
       "      <th>min</th>\n",
       "      <th>25%</th>\n",
       "      <th>50%</th>\n",
       "      <th>75%</th>\n",
       "      <th>max</th>\n",
       "    </tr>\n",
       "    <tr>\n",
       "      <th>keyword</th>\n",
       "      <th></th>\n",
       "      <th></th>\n",
       "      <th></th>\n",
       "      <th></th>\n",
       "      <th></th>\n",
       "      <th></th>\n",
       "      <th></th>\n",
       "      <th></th>\n",
       "      <th></th>\n",
       "      <th></th>\n",
       "      <th></th>\n",
       "      <th></th>\n",
       "      <th></th>\n",
       "      <th></th>\n",
       "      <th></th>\n",
       "      <th></th>\n",
       "    </tr>\n",
       "  </thead>\n",
       "  <tbody>\n",
       "    <tr>\n",
       "      <th>ablaze</th>\n",
       "      <td>14.0</td>\n",
       "      <td>70.785714</td>\n",
       "      <td>16.446550</td>\n",
       "      <td>46.0</td>\n",
       "      <td>58.5</td>\n",
       "      <td>71.0</td>\n",
       "      <td>86.25</td>\n",
       "      <td>94.0</td>\n",
       "      <td>14.0</td>\n",
       "      <td>96.785714</td>\n",
       "      <td>36.597979</td>\n",
       "      <td>44.0</td>\n",
       "      <td>68.25</td>\n",
       "      <td>101.5</td>\n",
       "      <td>132.75</td>\n",
       "      <td>143.0</td>\n",
       "    </tr>\n",
       "    <tr>\n",
       "      <th>accident</th>\n",
       "      <td>15.0</td>\n",
       "      <td>117.466667</td>\n",
       "      <td>13.211827</td>\n",
       "      <td>99.0</td>\n",
       "      <td>107.0</td>\n",
       "      <td>116.0</td>\n",
       "      <td>124.50</td>\n",
       "      <td>142.0</td>\n",
       "      <td>15.0</td>\n",
       "      <td>109.733333</td>\n",
       "      <td>29.339069</td>\n",
       "      <td>31.0</td>\n",
       "      <td>99.00</td>\n",
       "      <td>115.0</td>\n",
       "      <td>134.50</td>\n",
       "      <td>139.0</td>\n",
       "    </tr>\n",
       "    <tr>\n",
       "      <th>aftershock</th>\n",
       "      <td>16.0</td>\n",
       "      <td>168.750000</td>\n",
       "      <td>16.114176</td>\n",
       "      <td>147.0</td>\n",
       "      <td>153.5</td>\n",
       "      <td>168.0</td>\n",
       "      <td>182.25</td>\n",
       "      <td>192.0</td>\n",
       "      <td>16.0</td>\n",
       "      <td>100.250000</td>\n",
       "      <td>39.250478</td>\n",
       "      <td>34.0</td>\n",
       "      <td>72.75</td>\n",
       "      <td>110.0</td>\n",
       "      <td>135.75</td>\n",
       "      <td>149.0</td>\n",
       "    </tr>\n",
       "    <tr>\n",
       "      <th>airplane%20accident</th>\n",
       "      <td>15.0</td>\n",
       "      <td>221.333333</td>\n",
       "      <td>12.893335</td>\n",
       "      <td>200.0</td>\n",
       "      <td>210.5</td>\n",
       "      <td>224.0</td>\n",
       "      <td>231.50</td>\n",
       "      <td>239.0</td>\n",
       "      <td>15.0</td>\n",
       "      <td>113.466667</td>\n",
       "      <td>31.849796</td>\n",
       "      <td>56.0</td>\n",
       "      <td>84.00</td>\n",
       "      <td>130.0</td>\n",
       "      <td>135.00</td>\n",
       "      <td>147.0</td>\n",
       "    </tr>\n",
       "    <tr>\n",
       "      <th>ambulance</th>\n",
       "      <td>12.0</td>\n",
       "      <td>275.083333</td>\n",
       "      <td>15.733337</td>\n",
       "      <td>250.0</td>\n",
       "      <td>258.5</td>\n",
       "      <td>280.0</td>\n",
       "      <td>286.50</td>\n",
       "      <td>295.0</td>\n",
       "      <td>12.0</td>\n",
       "      <td>103.166667</td>\n",
       "      <td>24.564695</td>\n",
       "      <td>76.0</td>\n",
       "      <td>81.75</td>\n",
       "      <td>100.5</td>\n",
       "      <td>116.75</td>\n",
       "      <td>141.0</td>\n",
       "    </tr>\n",
       "    <tr>\n",
       "      <th>...</th>\n",
       "      <td>...</td>\n",
       "      <td>...</td>\n",
       "      <td>...</td>\n",
       "      <td>...</td>\n",
       "      <td>...</td>\n",
       "      <td>...</td>\n",
       "      <td>...</td>\n",
       "      <td>...</td>\n",
       "      <td>...</td>\n",
       "      <td>...</td>\n",
       "      <td>...</td>\n",
       "      <td>...</td>\n",
       "      <td>...</td>\n",
       "      <td>...</td>\n",
       "      <td>...</td>\n",
       "      <td>...</td>\n",
       "    </tr>\n",
       "    <tr>\n",
       "      <th>wounded</th>\n",
       "      <td>13.0</td>\n",
       "      <td>10610.538462</td>\n",
       "      <td>15.365629</td>\n",
       "      <td>10586.0</td>\n",
       "      <td>10597.0</td>\n",
       "      <td>10614.0</td>\n",
       "      <td>10619.00</td>\n",
       "      <td>10634.0</td>\n",
       "      <td>13.0</td>\n",
       "      <td>101.461538</td>\n",
       "      <td>34.216505</td>\n",
       "      <td>40.0</td>\n",
       "      <td>78.00</td>\n",
       "      <td>95.0</td>\n",
       "      <td>135.00</td>\n",
       "      <td>142.0</td>\n",
       "    </tr>\n",
       "    <tr>\n",
       "      <th>wounds</th>\n",
       "      <td>17.0</td>\n",
       "      <td>10653.882353</td>\n",
       "      <td>13.972662</td>\n",
       "      <td>10635.0</td>\n",
       "      <td>10643.0</td>\n",
       "      <td>10652.0</td>\n",
       "      <td>10664.00</td>\n",
       "      <td>10683.0</td>\n",
       "      <td>17.0</td>\n",
       "      <td>104.470588</td>\n",
       "      <td>36.944414</td>\n",
       "      <td>11.0</td>\n",
       "      <td>88.00</td>\n",
       "      <td>113.0</td>\n",
       "      <td>136.00</td>\n",
       "      <td>142.0</td>\n",
       "    </tr>\n",
       "    <tr>\n",
       "      <th>wreck</th>\n",
       "      <td>13.0</td>\n",
       "      <td>10712.307692</td>\n",
       "      <td>12.658229</td>\n",
       "      <td>10694.0</td>\n",
       "      <td>10701.0</td>\n",
       "      <td>10714.0</td>\n",
       "      <td>10719.00</td>\n",
       "      <td>10734.0</td>\n",
       "      <td>13.0</td>\n",
       "      <td>93.461538</td>\n",
       "      <td>41.508263</td>\n",
       "      <td>23.0</td>\n",
       "      <td>57.00</td>\n",
       "      <td>95.0</td>\n",
       "      <td>136.00</td>\n",
       "      <td>146.0</td>\n",
       "    </tr>\n",
       "    <tr>\n",
       "      <th>wreckage</th>\n",
       "      <td>11.0</td>\n",
       "      <td>10758.727273</td>\n",
       "      <td>14.690752</td>\n",
       "      <td>10738.0</td>\n",
       "      <td>10749.0</td>\n",
       "      <td>10758.0</td>\n",
       "      <td>10767.50</td>\n",
       "      <td>10781.0</td>\n",
       "      <td>11.0</td>\n",
       "      <td>113.636364</td>\n",
       "      <td>30.342290</td>\n",
       "      <td>60.0</td>\n",
       "      <td>101.00</td>\n",
       "      <td>135.0</td>\n",
       "      <td>136.00</td>\n",
       "      <td>137.0</td>\n",
       "    </tr>\n",
       "    <tr>\n",
       "      <th>wrecked</th>\n",
       "      <td>11.0</td>\n",
       "      <td>10805.272727</td>\n",
       "      <td>11.858254</td>\n",
       "      <td>10791.0</td>\n",
       "      <td>10796.5</td>\n",
       "      <td>10804.0</td>\n",
       "      <td>10811.50</td>\n",
       "      <td>10828.0</td>\n",
       "      <td>11.0</td>\n",
       "      <td>97.727273</td>\n",
       "      <td>34.928759</td>\n",
       "      <td>34.0</td>\n",
       "      <td>76.00</td>\n",
       "      <td>94.0</td>\n",
       "      <td>123.50</td>\n",
       "      <td>143.0</td>\n",
       "    </tr>\n",
       "  </tbody>\n",
       "</table>\n",
       "<p>221 rows × 16 columns</p>\n",
       "</div>"
      ],
      "text/plain": [
       "                       id                                                      \\\n",
       "                    count          mean        std      min      25%      50%   \n",
       "keyword                                                                         \n",
       "ablaze               14.0     70.785714  16.446550     46.0     58.5     71.0   \n",
       "accident             15.0    117.466667  13.211827     99.0    107.0    116.0   \n",
       "aftershock           16.0    168.750000  16.114176    147.0    153.5    168.0   \n",
       "airplane%20accident  15.0    221.333333  12.893335    200.0    210.5    224.0   \n",
       "ambulance            12.0    275.083333  15.733337    250.0    258.5    280.0   \n",
       "...                   ...           ...        ...      ...      ...      ...   \n",
       "wounded              13.0  10610.538462  15.365629  10586.0  10597.0  10614.0   \n",
       "wounds               17.0  10653.882353  13.972662  10635.0  10643.0  10652.0   \n",
       "wreck                13.0  10712.307692  12.658229  10694.0  10701.0  10714.0   \n",
       "wreckage             11.0  10758.727273  14.690752  10738.0  10749.0  10758.0   \n",
       "wrecked              11.0  10805.272727  11.858254  10791.0  10796.5  10804.0   \n",
       "\n",
       "                                       length                               \\\n",
       "                          75%      max  count        mean        std   min   \n",
       "keyword                                                                      \n",
       "ablaze                  86.25     94.0   14.0   96.785714  36.597979  44.0   \n",
       "accident               124.50    142.0   15.0  109.733333  29.339069  31.0   \n",
       "aftershock             182.25    192.0   16.0  100.250000  39.250478  34.0   \n",
       "airplane%20accident    231.50    239.0   15.0  113.466667  31.849796  56.0   \n",
       "ambulance              286.50    295.0   12.0  103.166667  24.564695  76.0   \n",
       "...                       ...      ...    ...         ...        ...   ...   \n",
       "wounded              10619.00  10634.0   13.0  101.461538  34.216505  40.0   \n",
       "wounds               10664.00  10683.0   17.0  104.470588  36.944414  11.0   \n",
       "wreck                10719.00  10734.0   13.0   93.461538  41.508263  23.0   \n",
       "wreckage             10767.50  10781.0   11.0  113.636364  30.342290  60.0   \n",
       "wrecked              10811.50  10828.0   11.0   97.727273  34.928759  34.0   \n",
       "\n",
       "                                                   \n",
       "                        25%    50%     75%    max  \n",
       "keyword                                            \n",
       "ablaze                68.25  101.5  132.75  143.0  \n",
       "accident              99.00  115.0  134.50  139.0  \n",
       "aftershock            72.75  110.0  135.75  149.0  \n",
       "airplane%20accident   84.00  130.0  135.00  147.0  \n",
       "ambulance             81.75  100.5  116.75  141.0  \n",
       "...                     ...    ...     ...    ...  \n",
       "wounded               78.00   95.0  135.00  142.0  \n",
       "wounds                88.00  113.0  136.00  142.0  \n",
       "wreck                 57.00   95.0  136.00  146.0  \n",
       "wreckage             101.00  135.0  136.00  137.0  \n",
       "wrecked               76.00   94.0  123.50  143.0  \n",
       "\n",
       "[221 rows x 16 columns]"
      ]
     },
     "execution_count": 400,
     "metadata": {},
     "output_type": "execute_result"
    }
   ],
   "source": [
    "df_test.groupby([\"keyword\"]).describe()"
   ]
  },
  {
   "cell_type": "code",
   "execution_count": 401,
   "metadata": {},
   "outputs": [
    {
     "data": {
      "text/plain": [
       "keyword     target\n",
       "ablaze      0         23\n",
       "            1         13\n",
       "accident    0         11\n",
       "            1         24\n",
       "aftershock  0         34\n",
       "                      ..\n",
       "wreck       0         30\n",
       "            1          7\n",
       "wreckage    1         39\n",
       "wrecked     0         36\n",
       "            1          3\n",
       "Name: keyword, Length: 438, dtype: int64"
      ]
     },
     "execution_count": 401,
     "metadata": {},
     "output_type": "execute_result"
    }
   ],
   "source": [
    "df_train.groupby([\"keyword\", \"target\"])[\"keyword\"].count()"
   ]
  },
  {
   "cell_type": "markdown",
   "metadata": {},
   "source": [
    "### One-hot encoding keywords"
   ]
  },
  {
   "cell_type": "code",
   "execution_count": 402,
   "metadata": {},
   "outputs": [],
   "source": [
    "# concat test and train dataframe\n",
    "df_keywords = pd.concat([df_test[\"keyword\"], df_train[\"keyword\"]])"
   ]
  },
  {
   "cell_type": "code",
   "execution_count": 403,
   "metadata": {},
   "outputs": [],
   "source": [
    "# Creating the One Hot Encoder \n",
    "oneHot = OneHotEncoder(categories='auto') \n",
    "\n",
    "oneHot.fit(df_keywords.values.reshape(-1,1)) \n",
    "train_keyword = oneHot.transform(df_train[\"keyword\"].values.reshape(-1,1)).toarray()\n",
    "test_keyword = oneHot.transform(df_test[\"keyword\"].values.reshape(-1,1)).toarray()"
   ]
  },
  {
   "cell_type": "code",
   "execution_count": 404,
   "metadata": {},
   "outputs": [
    {
     "name": "stdout",
     "output_type": "stream",
     "text": [
      "shape of one-hot train keyword:  (7613, 222)\n",
      "shape of one-hot test keyword:  (3263, 222)\n"
     ]
    }
   ],
   "source": [
    "print(\"shape of one-hot train keyword: \", train_keyword.shape)\n",
    "print(\"shape of one-hot test keyword: \", test_keyword.shape)"
   ]
  },
  {
   "cell_type": "markdown",
   "metadata": {},
   "source": [
    "### Location"
   ]
  },
  {
   "cell_type": "code",
   "execution_count": 405,
   "metadata": {},
   "outputs": [
    {
     "data": {
      "text/html": [
       "<div>\n",
       "<style scoped>\n",
       "    .dataframe tbody tr th:only-of-type {\n",
       "        vertical-align: middle;\n",
       "    }\n",
       "\n",
       "    .dataframe tbody tr th {\n",
       "        vertical-align: top;\n",
       "    }\n",
       "\n",
       "    .dataframe thead tr th {\n",
       "        text-align: left;\n",
       "    }\n",
       "\n",
       "    .dataframe thead tr:last-of-type th {\n",
       "        text-align: right;\n",
       "    }\n",
       "</style>\n",
       "<table border=\"1\" class=\"dataframe\">\n",
       "  <thead>\n",
       "    <tr>\n",
       "      <th></th>\n",
       "      <th colspan=\"8\" halign=\"left\">id</th>\n",
       "      <th colspan=\"5\" halign=\"left\">target</th>\n",
       "      <th colspan=\"8\" halign=\"left\">length</th>\n",
       "    </tr>\n",
       "    <tr>\n",
       "      <th></th>\n",
       "      <th>count</th>\n",
       "      <th>mean</th>\n",
       "      <th>std</th>\n",
       "      <th>min</th>\n",
       "      <th>25%</th>\n",
       "      <th>50%</th>\n",
       "      <th>75%</th>\n",
       "      <th>max</th>\n",
       "      <th>count</th>\n",
       "      <th>mean</th>\n",
       "      <th>...</th>\n",
       "      <th>75%</th>\n",
       "      <th>max</th>\n",
       "      <th>count</th>\n",
       "      <th>mean</th>\n",
       "      <th>std</th>\n",
       "      <th>min</th>\n",
       "      <th>25%</th>\n",
       "      <th>50%</th>\n",
       "      <th>75%</th>\n",
       "      <th>max</th>\n",
       "    </tr>\n",
       "    <tr>\n",
       "      <th>location</th>\n",
       "      <th></th>\n",
       "      <th></th>\n",
       "      <th></th>\n",
       "      <th></th>\n",
       "      <th></th>\n",
       "      <th></th>\n",
       "      <th></th>\n",
       "      <th></th>\n",
       "      <th></th>\n",
       "      <th></th>\n",
       "      <th></th>\n",
       "      <th></th>\n",
       "      <th></th>\n",
       "      <th></th>\n",
       "      <th></th>\n",
       "      <th></th>\n",
       "      <th></th>\n",
       "      <th></th>\n",
       "      <th></th>\n",
       "      <th></th>\n",
       "      <th></th>\n",
       "    </tr>\n",
       "  </thead>\n",
       "  <tbody>\n",
       "    <tr>\n",
       "      <th></th>\n",
       "      <td>1.0</td>\n",
       "      <td>9703.0</td>\n",
       "      <td>NaN</td>\n",
       "      <td>9703.0</td>\n",
       "      <td>9703.0</td>\n",
       "      <td>9703.0</td>\n",
       "      <td>9703.0</td>\n",
       "      <td>9703.0</td>\n",
       "      <td>1.0</td>\n",
       "      <td>1.0</td>\n",
       "      <td>...</td>\n",
       "      <td>1.0</td>\n",
       "      <td>1.0</td>\n",
       "      <td>1.0</td>\n",
       "      <td>56.0</td>\n",
       "      <td>NaN</td>\n",
       "      <td>56.0</td>\n",
       "      <td>56.0</td>\n",
       "      <td>56.0</td>\n",
       "      <td>56.0</td>\n",
       "      <td>56.0</td>\n",
       "    </tr>\n",
       "    <tr>\n",
       "      <th>Glasgow</th>\n",
       "      <td>1.0</td>\n",
       "      <td>10822.0</td>\n",
       "      <td>NaN</td>\n",
       "      <td>10822.0</td>\n",
       "      <td>10822.0</td>\n",
       "      <td>10822.0</td>\n",
       "      <td>10822.0</td>\n",
       "      <td>10822.0</td>\n",
       "      <td>1.0</td>\n",
       "      <td>0.0</td>\n",
       "      <td>...</td>\n",
       "      <td>0.0</td>\n",
       "      <td>0.0</td>\n",
       "      <td>1.0</td>\n",
       "      <td>70.0</td>\n",
       "      <td>NaN</td>\n",
       "      <td>70.0</td>\n",
       "      <td>70.0</td>\n",
       "      <td>70.0</td>\n",
       "      <td>70.0</td>\n",
       "      <td>70.0</td>\n",
       "    </tr>\n",
       "    <tr>\n",
       "      <th>Melbourne, Australia</th>\n",
       "      <td>1.0</td>\n",
       "      <td>2579.0</td>\n",
       "      <td>NaN</td>\n",
       "      <td>2579.0</td>\n",
       "      <td>2579.0</td>\n",
       "      <td>2579.0</td>\n",
       "      <td>2579.0</td>\n",
       "      <td>2579.0</td>\n",
       "      <td>1.0</td>\n",
       "      <td>0.0</td>\n",
       "      <td>...</td>\n",
       "      <td>0.0</td>\n",
       "      <td>0.0</td>\n",
       "      <td>1.0</td>\n",
       "      <td>131.0</td>\n",
       "      <td>NaN</td>\n",
       "      <td>131.0</td>\n",
       "      <td>131.0</td>\n",
       "      <td>131.0</td>\n",
       "      <td>131.0</td>\n",
       "      <td>131.0</td>\n",
       "    </tr>\n",
       "    <tr>\n",
       "      <th>News</th>\n",
       "      <td>1.0</td>\n",
       "      <td>3955.0</td>\n",
       "      <td>NaN</td>\n",
       "      <td>3955.0</td>\n",
       "      <td>3955.0</td>\n",
       "      <td>3955.0</td>\n",
       "      <td>3955.0</td>\n",
       "      <td>3955.0</td>\n",
       "      <td>1.0</td>\n",
       "      <td>1.0</td>\n",
       "      <td>...</td>\n",
       "      <td>1.0</td>\n",
       "      <td>1.0</td>\n",
       "      <td>1.0</td>\n",
       "      <td>135.0</td>\n",
       "      <td>NaN</td>\n",
       "      <td>135.0</td>\n",
       "      <td>135.0</td>\n",
       "      <td>135.0</td>\n",
       "      <td>135.0</td>\n",
       "      <td>135.0</td>\n",
       "    </tr>\n",
       "    <tr>\n",
       "      <th>å_</th>\n",
       "      <td>1.0</td>\n",
       "      <td>5338.0</td>\n",
       "      <td>NaN</td>\n",
       "      <td>5338.0</td>\n",
       "      <td>5338.0</td>\n",
       "      <td>5338.0</td>\n",
       "      <td>5338.0</td>\n",
       "      <td>5338.0</td>\n",
       "      <td>1.0</td>\n",
       "      <td>0.0</td>\n",
       "      <td>...</td>\n",
       "      <td>0.0</td>\n",
       "      <td>0.0</td>\n",
       "      <td>1.0</td>\n",
       "      <td>35.0</td>\n",
       "      <td>NaN</td>\n",
       "      <td>35.0</td>\n",
       "      <td>35.0</td>\n",
       "      <td>35.0</td>\n",
       "      <td>35.0</td>\n",
       "      <td>35.0</td>\n",
       "    </tr>\n",
       "    <tr>\n",
       "      <th>...</th>\n",
       "      <td>...</td>\n",
       "      <td>...</td>\n",
       "      <td>...</td>\n",
       "      <td>...</td>\n",
       "      <td>...</td>\n",
       "      <td>...</td>\n",
       "      <td>...</td>\n",
       "      <td>...</td>\n",
       "      <td>...</td>\n",
       "      <td>...</td>\n",
       "      <td>...</td>\n",
       "      <td>...</td>\n",
       "      <td>...</td>\n",
       "      <td>...</td>\n",
       "      <td>...</td>\n",
       "      <td>...</td>\n",
       "      <td>...</td>\n",
       "      <td>...</td>\n",
       "      <td>...</td>\n",
       "      <td>...</td>\n",
       "      <td>...</td>\n",
       "    </tr>\n",
       "    <tr>\n",
       "      <th>å_: ?? ÌÑ ? : ?</th>\n",
       "      <td>1.0</td>\n",
       "      <td>5918.0</td>\n",
       "      <td>NaN</td>\n",
       "      <td>5918.0</td>\n",
       "      <td>5918.0</td>\n",
       "      <td>5918.0</td>\n",
       "      <td>5918.0</td>\n",
       "      <td>5918.0</td>\n",
       "      <td>1.0</td>\n",
       "      <td>0.0</td>\n",
       "      <td>...</td>\n",
       "      <td>0.0</td>\n",
       "      <td>0.0</td>\n",
       "      <td>1.0</td>\n",
       "      <td>82.0</td>\n",
       "      <td>NaN</td>\n",
       "      <td>82.0</td>\n",
       "      <td>82.0</td>\n",
       "      <td>82.0</td>\n",
       "      <td>82.0</td>\n",
       "      <td>82.0</td>\n",
       "    </tr>\n",
       "    <tr>\n",
       "      <th>å_å_Los Mina Cityã¢</th>\n",
       "      <td>1.0</td>\n",
       "      <td>9788.0</td>\n",
       "      <td>NaN</td>\n",
       "      <td>9788.0</td>\n",
       "      <td>9788.0</td>\n",
       "      <td>9788.0</td>\n",
       "      <td>9788.0</td>\n",
       "      <td>9788.0</td>\n",
       "      <td>1.0</td>\n",
       "      <td>0.0</td>\n",
       "      <td>...</td>\n",
       "      <td>0.0</td>\n",
       "      <td>0.0</td>\n",
       "      <td>1.0</td>\n",
       "      <td>136.0</td>\n",
       "      <td>NaN</td>\n",
       "      <td>136.0</td>\n",
       "      <td>136.0</td>\n",
       "      <td>136.0</td>\n",
       "      <td>136.0</td>\n",
       "      <td>136.0</td>\n",
       "    </tr>\n",
       "    <tr>\n",
       "      <th>å¡å¡Midwest Û¢Û¢</th>\n",
       "      <td>1.0</td>\n",
       "      <td>10023.0</td>\n",
       "      <td>NaN</td>\n",
       "      <td>10023.0</td>\n",
       "      <td>10023.0</td>\n",
       "      <td>10023.0</td>\n",
       "      <td>10023.0</td>\n",
       "      <td>10023.0</td>\n",
       "      <td>1.0</td>\n",
       "      <td>0.0</td>\n",
       "      <td>...</td>\n",
       "      <td>0.0</td>\n",
       "      <td>0.0</td>\n",
       "      <td>1.0</td>\n",
       "      <td>52.0</td>\n",
       "      <td>NaN</td>\n",
       "      <td>52.0</td>\n",
       "      <td>52.0</td>\n",
       "      <td>52.0</td>\n",
       "      <td>52.0</td>\n",
       "      <td>52.0</td>\n",
       "    </tr>\n",
       "    <tr>\n",
       "      <th>åÊ(?Û¢`?Û¢å«)??</th>\n",
       "      <td>1.0</td>\n",
       "      <td>10293.0</td>\n",
       "      <td>NaN</td>\n",
       "      <td>10293.0</td>\n",
       "      <td>10293.0</td>\n",
       "      <td>10293.0</td>\n",
       "      <td>10293.0</td>\n",
       "      <td>10293.0</td>\n",
       "      <td>1.0</td>\n",
       "      <td>0.0</td>\n",
       "      <td>...</td>\n",
       "      <td>0.0</td>\n",
       "      <td>0.0</td>\n",
       "      <td>1.0</td>\n",
       "      <td>33.0</td>\n",
       "      <td>NaN</td>\n",
       "      <td>33.0</td>\n",
       "      <td>33.0</td>\n",
       "      <td>33.0</td>\n",
       "      <td>33.0</td>\n",
       "      <td>33.0</td>\n",
       "    </tr>\n",
       "    <tr>\n",
       "      <th>åø\\_(?)_/åø</th>\n",
       "      <td>1.0</td>\n",
       "      <td>3478.0</td>\n",
       "      <td>NaN</td>\n",
       "      <td>3478.0</td>\n",
       "      <td>3478.0</td>\n",
       "      <td>3478.0</td>\n",
       "      <td>3478.0</td>\n",
       "      <td>3478.0</td>\n",
       "      <td>1.0</td>\n",
       "      <td>1.0</td>\n",
       "      <td>...</td>\n",
       "      <td>1.0</td>\n",
       "      <td>1.0</td>\n",
       "      <td>1.0</td>\n",
       "      <td>135.0</td>\n",
       "      <td>NaN</td>\n",
       "      <td>135.0</td>\n",
       "      <td>135.0</td>\n",
       "      <td>135.0</td>\n",
       "      <td>135.0</td>\n",
       "      <td>135.0</td>\n",
       "    </tr>\n",
       "  </tbody>\n",
       "</table>\n",
       "<p>3341 rows × 24 columns</p>\n",
       "</div>"
      ],
      "text/plain": [
       "                          id                                                   \\\n",
       "                       count     mean std      min      25%      50%      75%   \n",
       "location                                                                        \n",
       "                         1.0   9703.0 NaN   9703.0   9703.0   9703.0   9703.0   \n",
       "  Glasgow                1.0  10822.0 NaN  10822.0  10822.0  10822.0  10822.0   \n",
       "  Melbourne, Australia   1.0   2579.0 NaN   2579.0   2579.0   2579.0   2579.0   \n",
       "  News                   1.0   3955.0 NaN   3955.0   3955.0   3955.0   3955.0   \n",
       "  å_                     1.0   5338.0 NaN   5338.0   5338.0   5338.0   5338.0   \n",
       "...                      ...      ...  ..      ...      ...      ...      ...   \n",
       "å_: ?? ÌÑ ? : ?          1.0   5918.0 NaN   5918.0   5918.0   5918.0   5918.0   \n",
       "å_å_Los Mina Cityã¢     1.0   9788.0 NaN   9788.0   9788.0   9788.0   9788.0   \n",
       "å¡å¡Midwest Û¢Û¢       1.0  10023.0 NaN  10023.0  10023.0  10023.0  10023.0   \n",
       "åÊ(?Û¢`?Û¢å«)??        1.0  10293.0 NaN  10293.0  10293.0  10293.0  10293.0   \n",
       "åø\\_(?)_/åø              1.0   3478.0 NaN   3478.0   3478.0   3478.0   3478.0   \n",
       "\n",
       "                                target       ...           length             \\\n",
       "                            max  count mean  ...  75%  max  count   mean std   \n",
       "location                                     ...                               \n",
       "                         9703.0    1.0  1.0  ...  1.0  1.0    1.0   56.0 NaN   \n",
       "  Glasgow               10822.0    1.0  0.0  ...  0.0  0.0    1.0   70.0 NaN   \n",
       "  Melbourne, Australia   2579.0    1.0  0.0  ...  0.0  0.0    1.0  131.0 NaN   \n",
       "  News                   3955.0    1.0  1.0  ...  1.0  1.0    1.0  135.0 NaN   \n",
       "  å_                     5338.0    1.0  0.0  ...  0.0  0.0    1.0   35.0 NaN   \n",
       "...                         ...    ...  ...  ...  ...  ...    ...    ...  ..   \n",
       "å_: ?? ÌÑ ? : ?          5918.0    1.0  0.0  ...  0.0  0.0    1.0   82.0 NaN   \n",
       "å_å_Los Mina Cityã¢     9788.0    1.0  0.0  ...  0.0  0.0    1.0  136.0 NaN   \n",
       "å¡å¡Midwest Û¢Û¢      10023.0    1.0  0.0  ...  0.0  0.0    1.0   52.0 NaN   \n",
       "åÊ(?Û¢`?Û¢å«)??       10293.0    1.0  0.0  ...  0.0  0.0    1.0   33.0 NaN   \n",
       "åø\\_(?)_/åø              3478.0    1.0  1.0  ...  1.0  1.0    1.0  135.0 NaN   \n",
       "\n",
       "                                                           \n",
       "                          min    25%    50%    75%    max  \n",
       "location                                                   \n",
       "                         56.0   56.0   56.0   56.0   56.0  \n",
       "  Glasgow                70.0   70.0   70.0   70.0   70.0  \n",
       "  Melbourne, Australia  131.0  131.0  131.0  131.0  131.0  \n",
       "  News                  135.0  135.0  135.0  135.0  135.0  \n",
       "  å_                     35.0   35.0   35.0   35.0   35.0  \n",
       "...                       ...    ...    ...    ...    ...  \n",
       "å_: ?? ÌÑ ? : ?          82.0   82.0   82.0   82.0   82.0  \n",
       "å_å_Los Mina Cityã¢    136.0  136.0  136.0  136.0  136.0  \n",
       "å¡å¡Midwest Û¢Û¢       52.0   52.0   52.0   52.0   52.0  \n",
       "åÊ(?Û¢`?Û¢å«)??        33.0   33.0   33.0   33.0   33.0  \n",
       "åø\\_(?)_/åø             135.0  135.0  135.0  135.0  135.0  \n",
       "\n",
       "[3341 rows x 24 columns]"
      ]
     },
     "execution_count": 405,
     "metadata": {},
     "output_type": "execute_result"
    }
   ],
   "source": [
    "df_train.groupby([\"location\"]).describe()"
   ]
  },
  {
   "cell_type": "markdown",
   "metadata": {},
   "source": [
    "### Target"
   ]
  },
  {
   "cell_type": "code",
   "execution_count": 406,
   "metadata": {},
   "outputs": [
    {
     "data": {
      "image/png": "[encoded data removed]",
      "text/plain": [
       "<Figure size 432x288 with 1 Axes>"
      ]
     },
     "metadata": {
      "needs_background": "light"
     },
     "output_type": "display_data"
    }
   ],
   "source": [
    "labels = df_train[\"target\"]\n",
    "plt.hist(labels)\n",
    "plt.xlabel('target')\n",
    "plt.ylabel('nb samples')\n",
    "plt.title('target distribution')\n",
    "plt.xticks(np.arange(len(np.unique(labels))));"
   ]
  },
  {
   "cell_type": "markdown",
   "metadata": {},
   "source": [
    "### Loading the Pre-trained BERT model"
   ]
  },
  {
   "cell_type": "code",
   "execution_count": 407,
   "metadata": {},
   "outputs": [
    {
     "name": "stderr",
     "output_type": "stream",
     "text": [
      "Some layers from the model checkpoint at distilbert-base-uncased were not used when initializing TFDistilBertModel: ['vocab_layer_norm', 'vocab_projector', 'activation_13', 'vocab_transform']\n",
      "- This IS expected if you are initializing TFDistilBertModel from the checkpoint of a model trained on another task or with another architecture (e.g. initializing a BertForSequenceClassification model from a BertForPreTraining model).\n",
      "- This IS NOT expected if you are initializing TFDistilBertModel from the checkpoint of a model that you expect to be exactly identical (initializing a BertForSequenceClassification model from a BertForSequenceClassification model).\n",
      "All the layers of TFDistilBertModel were initialized from the model checkpoint at distilbert-base-uncased.\n",
      "If your task is similar to the task the model of the checkpoint was trained on, you can already use TFDistilBertModel for predictions without further training.\n"
     ]
    }
   ],
   "source": [
    "model_class, tokenizer_class, pretrained_weights = (ppb.TFDistilBertModel, ppb.DistilBertTokenizer, 'distilbert-base-uncased')\n",
    "\n",
    "# Load pretrained model/tokenizer\n",
    "tokenizer = tokenizer_class.from_pretrained(pretrained_weights)\n",
    "model = model_class.from_pretrained(pretrained_weights)"
   ]
  },
  {
   "cell_type": "code",
   "execution_count": 408,
   "metadata": {},
   "outputs": [
    {
     "name": "stdout",
     "output_type": "stream",
     "text": [
      "Model: \"tf_distil_bert_model_1\"\n",
      "_________________________________________________________________\n",
      "Layer (type)                 Output Shape              Param #   \n",
      "=================================================================\n",
      "distilbert (TFDistilBertMain multiple                  66362880  \n",
      "=================================================================\n",
      "Total params: 66,362,880\n",
      "Trainable params: 66,362,880\n",
      "Non-trainable params: 0\n",
      "_________________________________________________________________\n"
     ]
    }
   ],
   "source": [
    "model.summary()"
   ]
  },
  {
   "cell_type": "markdown",
   "metadata": {},
   "source": [
    "### Tokenization"
   ]
  },
  {
   "cell_type": "code",
   "execution_count": 409,
   "metadata": {},
   "outputs": [],
   "source": [
    "def tokenize(sentences):\n",
    "    tokenized = [tokenizer(sentence, add_special_tokens=True)['input_ids'] for sentence in sentences]\n",
    "    return tokenized"
   ]
  },
  {
   "cell_type": "code",
   "execution_count": 410,
   "metadata": {},
   "outputs": [],
   "source": [
    "tokenized = tokenize(df_train[\"text\"])"
   ]
  },
  {
   "cell_type": "code",
   "execution_count": 411,
   "metadata": {},
   "outputs": [
    {
     "name": "stdout",
     "output_type": "stream",
     "text": [
      "sentence:  Our Deeds are the Reason of this #earthquake May ALLAH Forgive us all\n",
      "tokenized:  [101, 2256, 15616, 2024, 1996, 3114, 1997, 2023, 1001, 8372, 2089, 16455, 9641, 2149, 2035, 102]\n",
      "decoded:  [CLS] our deeds are the reason of this # earthquake may allah forgive us all [SEP]\n"
     ]
    }
   ],
   "source": [
    "print(\"sentence: \", df_train[\"text\"][0] )\n",
    "print(\"tokenized: \", tokenized[0])\n",
    "print(\"decoded: \", tokenizer.decode(tokenized[0]))"
   ]
  },
  {
   "cell_type": "markdown",
   "metadata": {},
   "source": [
    "### Padding"
   ]
  },
  {
   "cell_type": "code",
   "execution_count": 412,
   "metadata": {},
   "outputs": [
    {
     "name": "stdout",
     "output_type": "stream",
     "text": [
      "Max sentence length is  157\n"
     ]
    }
   ],
   "source": [
    "# get the maxh length\n",
    "max_len = max(df_train[\"length\"].max(), df_test[\"length\"].max())\n",
    "print(\"Max sentence length is \", max_len)"
   ]
  },
  {
   "cell_type": "code",
   "execution_count": 413,
   "metadata": {},
   "outputs": [],
   "source": [
    "def pad_tokens(tokens, max_len):\n",
    "    padded = np.array([i + [0]*(max_len-len(i)) for i in tokens])\n",
    "    return padded"
   ]
  },
  {
   "cell_type": "code",
   "execution_count": 414,
   "metadata": {},
   "outputs": [
    {
     "name": "stdout",
     "output_type": "stream",
     "text": [
      "[  101  2256 15616  2024  1996  3114  1997  2023  1001  8372  2089 16455\n",
      "  9641  2149  2035   102     0     0     0     0     0     0     0     0\n",
      "     0     0     0     0     0     0     0     0     0     0     0     0\n",
      "     0     0     0     0     0     0     0     0     0     0     0     0\n",
      "     0     0     0     0     0     0     0     0     0     0     0     0\n",
      "     0     0     0     0     0     0     0     0     0     0     0     0\n",
      "     0     0     0     0     0     0     0     0     0     0     0     0\n",
      "     0     0     0     0     0     0     0     0     0     0     0     0\n",
      "     0     0     0     0     0     0     0     0     0     0     0     0\n",
      "     0     0     0     0     0     0     0     0     0     0     0     0\n",
      "     0     0     0     0     0     0     0     0     0     0     0     0\n",
      "     0     0     0     0     0     0     0     0     0     0     0     0\n",
      "     0     0     0     0     0     0     0     0     0     0     0     0\n",
      "     0]\n"
     ]
    }
   ],
   "source": [
    "padded = pad_tokens(tokenized, max_len)\n",
    "print(padded[0])"
   ]
  },
  {
   "cell_type": "code",
   "execution_count": 415,
   "metadata": {},
   "outputs": [
    {
     "name": "stdout",
     "output_type": "stream",
     "text": [
      "shape of padded:  (7613, 157)\n"
     ]
    }
   ],
   "source": [
    "print(\"shape of padded: \", padded.shape)"
   ]
  },
  {
   "cell_type": "markdown",
   "metadata": {},
   "source": [
    "### Masking"
   ]
  },
  {
   "cell_type": "code",
   "execution_count": 416,
   "metadata": {},
   "outputs": [],
   "source": [
    "def get_attention_mask(tokens):\n",
    "    attention_mask = np.where(tokens != 0, 1, 0)    \n",
    "    return attention_mask"
   ]
  },
  {
   "cell_type": "code",
   "execution_count": 417,
   "metadata": {},
   "outputs": [
    {
     "name": "stdout",
     "output_type": "stream",
     "text": [
      "[1 1 1 1 1 1 1 1 1 1 1 1 1 1 1 1 0 0 0 0 0 0 0 0 0 0 0 0 0 0 0 0 0 0 0 0 0\n",
      " 0 0 0 0 0 0 0 0 0 0 0 0 0 0 0 0 0 0 0 0 0 0 0 0 0 0 0 0 0 0 0 0 0 0 0 0 0\n",
      " 0 0 0 0 0 0 0 0 0 0 0 0 0 0 0 0 0 0 0 0 0 0 0 0 0 0 0 0 0 0 0 0 0 0 0 0 0\n",
      " 0 0 0 0 0 0 0 0 0 0 0 0 0 0 0 0 0 0 0 0 0 0 0 0 0 0 0 0 0 0 0 0 0 0 0 0 0\n",
      " 0 0 0 0 0 0 0 0 0]\n"
     ]
    }
   ],
   "source": [
    "attention_mask = get_attention_mask(padded)\n",
    "print(attention_mask[0])"
   ]
  },
  {
   "cell_type": "code",
   "execution_count": 418,
   "metadata": {},
   "outputs": [
    {
     "name": "stdout",
     "output_type": "stream",
     "text": [
      "shape of attention mask:  (7613, 157)\n"
     ]
    }
   ],
   "source": [
    "print(\"shape of attention mask: \", attention_mask.shape)"
   ]
  },
  {
   "cell_type": "markdown",
   "metadata": {},
   "source": [
    "### Create input tensor"
   ]
  },
  {
   "cell_type": "code",
   "execution_count": 419,
   "metadata": {},
   "outputs": [],
   "source": [
    "input_ids = tf.convert_to_tensor(padded, dtype=tf.int32)\n",
    "attention_mask = tf.convert_to_tensor(attention_mask, dtype=tf.int32)"
   ]
  },
  {
   "cell_type": "markdown",
   "metadata": {},
   "source": [
    "### Extract feature vectors\n",
    "The model() function runs our sentences through BERT. The results of the processing will be returned into last_hidden_states."
   ]
  },
  {
   "cell_type": "code",
   "execution_count": 420,
   "metadata": {},
   "outputs": [],
   "source": [
    "def extract_features(input_ids, attention_mask):\n",
    "    batch_size = 500\n",
    "    m = input_ids.shape[0]\n",
    "    n = int(m / batch_size)\n",
    "\n",
    "    hidden_units =  model.config.to_dict()['dim']\n",
    "    features = np.zeros((m, hidden_units))\n",
    "\n",
    "    print('Extract features using batches for memory issue:')\n",
    "\n",
    "    for i in range(n):\n",
    "        j, k = i*batch_size, i*batch_size+batch_size\n",
    "        print(f'Batch {i+1} [{j}:{k}]')\n",
    "        batch_input = input_ids[j:k]\n",
    "        batch_attention_mask = attention_mask[j:k]\n",
    "        last_hidden_states = model(batch_input, attention_mask = batch_attention_mask)\n",
    "\n",
    "        # Let's slice only the part of the output that we need. That is the output corresponding the first token of each sentence. \n",
    "        # The way BERT does sentence classification, is that it adds a token called [CLS] (for classification) at the beginning of \n",
    "        # every sentence. The output corresponding to that token can be thought of as an embedding for the entire sentence.\n",
    "        features[j:k] = last_hidden_states[0][:,0,:].numpy()\n",
    "\n",
    "        ## if you use BERT instead of distilBERT model, use this\n",
    "        #features[j:k] = last_hidden_states[1].numpy() \n",
    "\n",
    "    if(n*batch_size != m):\n",
    "        i = i + 1\n",
    "        j, k = i*batch_size, i*batch_size+(m-n*batch_size)\n",
    "        print(f'Batch {i+1} [{j}:{k}]')\n",
    "        batch_input = input_ids[j:k]\n",
    "        batch_attention_mask = attention_mask[j:k]\n",
    "        last_hidden_states = model(batch_input, attention_mask = batch_attention_mask)\n",
    "        features[j:k] = last_hidden_states[0][:,0,:].numpy()\n",
    "\n",
    "    return features"
   ]
  },
  {
   "cell_type": "code",
   "execution_count": 421,
   "metadata": {},
   "outputs": [],
   "source": [
    "def get_features(input_ids, attention_mask, filename):\n",
    "    if os.path.exists(filename):\n",
    "        F = np.load(filename)\n",
    "    else:\n",
    "        F = extract_features(input_ids, attention_mask)\n",
    "        np.save(filename, F)\n",
    "    return F"
   ]
  },
  {
   "cell_type": "code",
   "execution_count": 422,
   "metadata": {},
   "outputs": [
    {
     "name": "stdout",
     "output_type": "stream",
     "text": [
      "shape of feature vectors:  (7613, 768)\n"
     ]
    }
   ],
   "source": [
    "features = get_features(input_ids, attention_mask, \"data/E_train.npy\")\n",
    "print(\"shape of feature vectors: \", features.shape)"
   ]
  },
  {
   "cell_type": "markdown",
   "metadata": {},
   "source": [
    "### Extract Labels"
   ]
  },
  {
   "cell_type": "code",
   "execution_count": 423,
   "metadata": {},
   "outputs": [
    {
     "name": "stdout",
     "output_type": "stream",
     "text": [
      "shape of feature labels:  (7613,)\n"
     ]
    }
   ],
   "source": [
    "lables = df_train[\"target\"].to_numpy()\n",
    "print(\"shape of feature labels: \", labels.shape)"
   ]
  },
  {
   "cell_type": "markdown",
   "metadata": {},
   "source": [
    "### Train/Validation split"
   ]
  },
  {
   "cell_type": "code",
   "execution_count": 732,
   "metadata": {},
   "outputs": [
    {
     "name": "stdout",
     "output_type": "stream",
     "text": [
      "shapes of training data:  (6090, 768) (6090,)\n",
      "shapes of validation data:  (1523, 768) (1523,)\n"
     ]
    }
   ],
   "source": [
    "# 80% train, 20% validation\n",
    "split_size = int(features.shape[0] * .8)    \n",
    "X_train = features[:split_size,:]\n",
    "Y_train = lables[:split_size]\n",
    "X_val = features[split_size:,:]\n",
    "Y_val = lables[split_size:]\n",
    "\n",
    "print(\"shapes of training data: \", X_train.shape, Y_train.shape)\n",
    "print(\"shapes of validation data: \", X_val.shape, Y_val.shape)"
   ]
  },
  {
   "cell_type": "code",
   "execution_count": 733,
   "metadata": {},
   "outputs": [
    {
     "name": "stdout",
     "output_type": "stream",
     "text": [
      "shapes of training data:  (6090, 990) (6090,)\n",
      "shapes of validation data:  (1523, 990) (1523,)\n"
     ]
    }
   ],
   "source": [
    "# append keyword\n",
    "X_train = np.append(X_train, train_keyword[:split_size,:], axis=1)\n",
    "X_val = np.append(X_val, train_keyword[split_size:,:], axis=1)\n",
    "\n",
    "print(\"shapes of training data: \", X_train.shape, Y_train.shape)\n",
    "print(\"shapes of validation data: \", X_val.shape, Y_val.shape)"
   ]
  },
  {
   "cell_type": "markdown",
   "metadata": {},
   "source": [
    "### Create the Logistic Regression Model"
   ]
  },
  {
   "cell_type": "code",
   "execution_count": 734,
   "metadata": {},
   "outputs": [],
   "source": [
    "def create_model(input_shape, classes):\n",
    "    inputs = keras.Input(shape=input_shape, name='input')\n",
    "    h1 = keras.layers.Dense(2048, activation='sigmoid', name='h1')(inputs)    \n",
    "    #d1 = keras.layers.Dropout(0.1, name='d1')(h1)\n",
    "    h2 = keras.layers.Dense(512, activation='sigmoid', name='h2')(h1)\n",
    "    #d2 = keras.layers.Dropout(0.1, name='d2')(h2)\n",
    "    h3 = keras.layers.Dense(1024, activation='sigmoid', name='h3')(h2)\n",
    "    #d4 = keras.layers.Dropout(0.1, name='d4')(h3)\n",
    "\n",
    "    outputs = keras.layers.Dense(classes, activation='sigmoid', name='output')(h3)\n",
    "    model = tf.keras.Model(inputs=inputs, outputs=outputs)\n",
    "\n",
    "    optimizer = tf.keras.optimizers.Adamax()\n",
    "\n",
    "    model.compile(\n",
    "        loss='binary_crossentropy', \n",
    "        optimizer=optimizer, \n",
    "        metrics=['binary_accuracy']\n",
    "    )\n",
    "\n",
    "    return model"
   ]
  },
  {
   "cell_type": "code",
   "execution_count": 735,
   "metadata": {},
   "outputs": [
    {
     "name": "stdout",
     "output_type": "stream",
     "text": [
      "Model: \"model_47\"\n",
      "_________________________________________________________________\n",
      "Layer (type)                 Output Shape              Param #   \n",
      "=================================================================\n",
      "input (InputLayer)           [(None, 990)]             0         \n",
      "_________________________________________________________________\n",
      "h1 (Dense)                   (None, 2048)              2029568   \n",
      "_________________________________________________________________\n",
      "h2 (Dense)                   (None, 512)               1049088   \n",
      "_________________________________________________________________\n",
      "h3 (Dense)                   (None, 1024)              525312    \n",
      "_________________________________________________________________\n",
      "output (Dense)               (None, 1)                 1025      \n",
      "=================================================================\n",
      "Total params: 3,604,993\n",
      "Trainable params: 3,604,993\n",
      "Non-trainable params: 0\n",
      "_________________________________________________________________\n"
     ]
    }
   ],
   "source": [
    "lr_model = create_model(X_train.shape[1], 1)\n",
    "lr_model.summary()"
   ]
  },
  {
   "cell_type": "code",
   "execution_count": 736,
   "metadata": {},
   "outputs": [
    {
     "data": {
      "image/png": "[encoded data removed]",
      "text/plain": [
       "<IPython.core.display.Image object>"
      ]
     },
     "execution_count": 736,
     "metadata": {},
     "output_type": "execute_result"
    }
   ],
   "source": [
    "keras.utils.plot_model(lr_model)"
   ]
  },
  {
   "cell_type": "markdown",
   "metadata": {},
   "source": [
    "### Train the model"
   ]
  },
  {
   "cell_type": "code",
   "execution_count": 737,
   "metadata": {},
   "outputs": [
    {
     "name": "stdout",
     "output_type": "stream",
     "text": [
      "Epoch 1/50\n",
      "22/39 [===============>..............] - ETA: 0s - loss: 0.7941 - binary_accuracy: 0.5479"
     ]
    },
    {
     "name": "stdout",
     "output_type": "stream",
     "text": [
      "39/39 [==============================] - 1s 28ms/step - loss: 0.7460 - binary_accuracy: 0.5593 - val_loss: 0.6765 - val_binary_accuracy: 0.5813\n",
      "Epoch 2/50\n",
      "39/39 [==============================] - 1s 23ms/step - loss: 0.6552 - binary_accuracy: 0.5915 - val_loss: 0.6188 - val_binary_accuracy: 0.5895\n",
      "Epoch 3/50\n",
      "39/39 [==============================] - 1s 24ms/step - loss: 0.5639 - binary_accuracy: 0.7373 - val_loss: 0.4935 - val_binary_accuracy: 0.7931\n",
      "Epoch 4/50\n",
      "39/39 [==============================] - 1s 27ms/step - loss: 0.4902 - binary_accuracy: 0.7736 - val_loss: 0.4531 - val_binary_accuracy: 0.8062\n",
      "Epoch 5/50\n",
      "39/39 [==============================] - 1s 23ms/step - loss: 0.4612 - binary_accuracy: 0.7861 - val_loss: 0.4511 - val_binary_accuracy: 0.8120\n",
      "Epoch 6/50\n",
      "39/39 [==============================] - 1s 25ms/step - loss: 0.4419 - binary_accuracy: 0.7986 - val_loss: 0.4167 - val_binary_accuracy: 0.8227\n",
      "Epoch 7/50\n",
      "39/39 [==============================] - 1s 23ms/step - loss: 0.4366 - binary_accuracy: 0.8044 - val_loss: 0.4147 - val_binary_accuracy: 0.8210\n",
      "Epoch 8/50\n",
      "39/39 [==============================] - 1s 23ms/step - loss: 0.4224 - binary_accuracy: 0.8134 - val_loss: 0.4393 - val_binary_accuracy: 0.8087\n",
      "Epoch 9/50\n",
      "39/39 [==============================] - 1s 25ms/step - loss: 0.4221 - binary_accuracy: 0.8155 - val_loss: 0.4060 - val_binary_accuracy: 0.8268\n",
      "Epoch 10/50\n",
      "39/39 [==============================] - 1s 24ms/step - loss: 0.4121 - binary_accuracy: 0.8198 - val_loss: 0.4220 - val_binary_accuracy: 0.8194\n",
      "Epoch 11/50\n",
      "39/39 [==============================] - 1s 24ms/step - loss: 0.4077 - binary_accuracy: 0.8188 - val_loss: 0.4016 - val_binary_accuracy: 0.8300\n",
      "Epoch 12/50\n",
      "39/39 [==============================] - 1s 24ms/step - loss: 0.4026 - binary_accuracy: 0.8255 - val_loss: 0.4072 - val_binary_accuracy: 0.8300\n",
      "Epoch 13/50\n",
      "39/39 [==============================] - 1s 24ms/step - loss: 0.3997 - binary_accuracy: 0.8278 - val_loss: 0.4036 - val_binary_accuracy: 0.8218\n",
      "Epoch 14/50\n",
      "39/39 [==============================] - 1s 24ms/step - loss: 0.3990 - binary_accuracy: 0.8300 - val_loss: 0.4185 - val_binary_accuracy: 0.8243\n",
      "Epoch 15/50\n",
      "39/39 [==============================] - 1s 23ms/step - loss: 0.3973 - binary_accuracy: 0.8298 - val_loss: 0.4075 - val_binary_accuracy: 0.8284\n",
      "Epoch 16/50\n",
      "39/39 [==============================] - 1s 24ms/step - loss: 0.3908 - binary_accuracy: 0.8307 - val_loss: 0.4301 - val_binary_accuracy: 0.8177\n",
      "Epoch 17/50\n",
      "39/39 [==============================] - 1s 24ms/step - loss: 0.3894 - binary_accuracy: 0.8348 - val_loss: 0.4066 - val_binary_accuracy: 0.8235\n",
      "Epoch 18/50\n",
      "39/39 [==============================] - 1s 24ms/step - loss: 0.3964 - binary_accuracy: 0.8278 - val_loss: 0.4018 - val_binary_accuracy: 0.8218\n",
      "Epoch 19/50\n",
      "39/39 [==============================] - 1s 25ms/step - loss: 0.3847 - binary_accuracy: 0.8372 - val_loss: 0.4031 - val_binary_accuracy: 0.8259\n",
      "Epoch 20/50\n",
      "39/39 [==============================] - 1s 24ms/step - loss: 0.3821 - binary_accuracy: 0.8378 - val_loss: 0.4064 - val_binary_accuracy: 0.8259\n",
      "Epoch 21/50\n",
      "39/39 [==============================] - 1s 24ms/step - loss: 0.3818 - binary_accuracy: 0.8403 - val_loss: 0.4046 - val_binary_accuracy: 0.8235\n",
      "Epoch 22/50\n",
      "39/39 [==============================] - 1s 25ms/step - loss: 0.3755 - binary_accuracy: 0.8452 - val_loss: 0.4018 - val_binary_accuracy: 0.8202\n",
      "Epoch 23/50\n",
      "39/39 [==============================] - 1s 24ms/step - loss: 0.3756 - binary_accuracy: 0.8411 - val_loss: 0.4016 - val_binary_accuracy: 0.8259\n",
      "Epoch 24/50\n",
      "39/39 [==============================] - 1s 24ms/step - loss: 0.3784 - binary_accuracy: 0.8409 - val_loss: 0.4039 - val_binary_accuracy: 0.8259\n",
      "Epoch 25/50\n",
      "39/39 [==============================] - 1s 24ms/step - loss: 0.3811 - binary_accuracy: 0.8430 - val_loss: 0.4155 - val_binary_accuracy: 0.8194\n",
      "Epoch 26/50\n",
      "39/39 [==============================] - 1s 25ms/step - loss: 0.3814 - binary_accuracy: 0.8387 - val_loss: 0.4156 - val_binary_accuracy: 0.8177\n",
      "Epoch 27/50\n",
      "39/39 [==============================] - 1s 25ms/step - loss: 0.3719 - binary_accuracy: 0.8489 - val_loss: 0.4045 - val_binary_accuracy: 0.8259\n",
      "Epoch 28/50\n",
      "39/39 [==============================] - 1s 25ms/step - loss: 0.3669 - binary_accuracy: 0.8481 - val_loss: 0.4042 - val_binary_accuracy: 0.8292\n",
      "Epoch 29/50\n",
      "39/39 [==============================] - 1s 27ms/step - loss: 0.3696 - binary_accuracy: 0.8461 - val_loss: 0.4253 - val_binary_accuracy: 0.8112\n",
      "Epoch 30/50\n",
      "39/39 [==============================] - 1s 24ms/step - loss: 0.3676 - binary_accuracy: 0.8473 - val_loss: 0.4123 - val_binary_accuracy: 0.8169\n",
      "Epoch 31/50\n",
      "39/39 [==============================] - 1s 24ms/step - loss: 0.3628 - binary_accuracy: 0.8467 - val_loss: 0.4056 - val_binary_accuracy: 0.8268\n",
      "Epoch 32/50\n",
      "39/39 [==============================] - 1s 25ms/step - loss: 0.3641 - binary_accuracy: 0.8481 - val_loss: 0.4165 - val_binary_accuracy: 0.8268\n",
      "Epoch 33/50\n",
      "39/39 [==============================] - 1s 24ms/step - loss: 0.3641 - binary_accuracy: 0.8495 - val_loss: 0.4118 - val_binary_accuracy: 0.8194\n",
      "Epoch 34/50\n",
      "39/39 [==============================] - 1s 24ms/step - loss: 0.3590 - binary_accuracy: 0.8516 - val_loss: 0.4291 - val_binary_accuracy: 0.8046\n",
      "Epoch 35/50\n",
      "39/39 [==============================] - 1s 24ms/step - loss: 0.3645 - binary_accuracy: 0.8516 - val_loss: 0.4386 - val_binary_accuracy: 0.8144\n",
      "Epoch 36/50\n",
      "39/39 [==============================] - 1s 25ms/step - loss: 0.3672 - binary_accuracy: 0.8448 - val_loss: 0.4065 - val_binary_accuracy: 0.8284\n",
      "Epoch 37/50\n",
      "39/39 [==============================] - 1s 24ms/step - loss: 0.3576 - binary_accuracy: 0.8539 - val_loss: 0.4167 - val_binary_accuracy: 0.8161\n",
      "Epoch 38/50\n",
      "39/39 [==============================] - 1s 25ms/step - loss: 0.3591 - binary_accuracy: 0.8500 - val_loss: 0.4072 - val_binary_accuracy: 0.8276\n",
      "Epoch 39/50\n",
      "39/39 [==============================] - 1s 24ms/step - loss: 0.3635 - binary_accuracy: 0.8485 - val_loss: 0.4157 - val_binary_accuracy: 0.8161\n",
      "Epoch 40/50\n",
      "39/39 [==============================] - 1s 24ms/step - loss: 0.3568 - binary_accuracy: 0.8530 - val_loss: 0.4107 - val_binary_accuracy: 0.8259\n",
      "Epoch 41/50\n",
      "39/39 [==============================] - 1s 23ms/step - loss: 0.3594 - binary_accuracy: 0.8514 - val_loss: 0.4105 - val_binary_accuracy: 0.8251\n",
      "Epoch 42/50\n",
      "39/39 [==============================] - 1s 24ms/step - loss: 0.3567 - binary_accuracy: 0.8522 - val_loss: 0.4145 - val_binary_accuracy: 0.8169\n",
      "Epoch 43/50\n",
      "39/39 [==============================] - 1s 23ms/step - loss: 0.3585 - binary_accuracy: 0.8551 - val_loss: 0.4083 - val_binary_accuracy: 0.8259\n",
      "Epoch 44/50\n",
      "39/39 [==============================] - 1s 24ms/step - loss: 0.3531 - binary_accuracy: 0.8561 - val_loss: 0.4303 - val_binary_accuracy: 0.8235\n",
      "Epoch 45/50\n",
      "39/39 [==============================] - 1s 24ms/step - loss: 0.3782 - binary_accuracy: 0.8401 - val_loss: 0.4152 - val_binary_accuracy: 0.8276\n",
      "Epoch 46/50\n",
      "39/39 [==============================] - 1s 24ms/step - loss: 0.3528 - binary_accuracy: 0.8559 - val_loss: 0.4235 - val_binary_accuracy: 0.8062\n",
      "Epoch 47/50\n",
      "39/39 [==============================] - 1s 23ms/step - loss: 0.3619 - binary_accuracy: 0.8483 - val_loss: 0.4149 - val_binary_accuracy: 0.8128\n",
      "Epoch 48/50\n",
      "39/39 [==============================] - 1s 23ms/step - loss: 0.3504 - binary_accuracy: 0.8571 - val_loss: 0.4129 - val_binary_accuracy: 0.8177\n",
      "Epoch 49/50\n",
      "39/39 [==============================] - 1s 23ms/step - loss: 0.3498 - binary_accuracy: 0.8592 - val_loss: 0.4526 - val_binary_accuracy: 0.8087\n",
      "Epoch 50/50\n",
      "39/39 [==============================] - 1s 24ms/step - loss: 0.3571 - binary_accuracy: 0.8555 - val_loss: 0.4189 - val_binary_accuracy: 0.8095\n"
     ]
    }
   ],
   "source": [
    "history = lr_model.fit(\n",
    "    X_train,\n",
    "    Y_train,\n",
    "    epochs=50,\n",
    "    batch_size=128,\n",
    "    validation_split=0.2,\n",
    "    verbose=1\n",
    ")"
   ]
  },
  {
   "cell_type": "code",
   "execution_count": 738,
   "metadata": {},
   "outputs": [
    {
     "data": {
      "text/html": [
       "<div>\n",
       "<style scoped>\n",
       "    .dataframe tbody tr th:only-of-type {\n",
       "        vertical-align: middle;\n",
       "    }\n",
       "\n",
       "    .dataframe tbody tr th {\n",
       "        vertical-align: top;\n",
       "    }\n",
       "\n",
       "    .dataframe thead th {\n",
       "        text-align: right;\n",
       "    }\n",
       "</style>\n",
       "<table border=\"1\" class=\"dataframe\">\n",
       "  <thead>\n",
       "    <tr style=\"text-align: right;\">\n",
       "      <th></th>\n",
       "      <th>loss</th>\n",
       "      <th>binary_accuracy</th>\n",
       "      <th>val_loss</th>\n",
       "      <th>val_binary_accuracy</th>\n",
       "      <th>epoch</th>\n",
       "    </tr>\n",
       "  </thead>\n",
       "  <tbody>\n",
       "    <tr>\n",
       "      <th>45</th>\n",
       "      <td>0.352816</td>\n",
       "      <td>0.855911</td>\n",
       "      <td>0.423470</td>\n",
       "      <td>0.806240</td>\n",
       "      <td>45</td>\n",
       "    </tr>\n",
       "    <tr>\n",
       "      <th>46</th>\n",
       "      <td>0.361890</td>\n",
       "      <td>0.848317</td>\n",
       "      <td>0.414896</td>\n",
       "      <td>0.812808</td>\n",
       "      <td>46</td>\n",
       "    </tr>\n",
       "    <tr>\n",
       "      <th>47</th>\n",
       "      <td>0.350424</td>\n",
       "      <td>0.857143</td>\n",
       "      <td>0.412877</td>\n",
       "      <td>0.817734</td>\n",
       "      <td>47</td>\n",
       "    </tr>\n",
       "    <tr>\n",
       "      <th>48</th>\n",
       "      <td>0.349757</td>\n",
       "      <td>0.859195</td>\n",
       "      <td>0.452625</td>\n",
       "      <td>0.808703</td>\n",
       "      <td>48</td>\n",
       "    </tr>\n",
       "    <tr>\n",
       "      <th>49</th>\n",
       "      <td>0.357102</td>\n",
       "      <td>0.855501</td>\n",
       "      <td>0.418882</td>\n",
       "      <td>0.809524</td>\n",
       "      <td>49</td>\n",
       "    </tr>\n",
       "  </tbody>\n",
       "</table>\n",
       "</div>"
      ],
      "text/plain": [
       "        loss  binary_accuracy  val_loss  val_binary_accuracy  epoch\n",
       "45  0.352816         0.855911  0.423470             0.806240     45\n",
       "46  0.361890         0.848317  0.414896             0.812808     46\n",
       "47  0.350424         0.857143  0.412877             0.817734     47\n",
       "48  0.349757         0.859195  0.452625             0.808703     48\n",
       "49  0.357102         0.855501  0.418882             0.809524     49"
      ]
     },
     "execution_count": 738,
     "metadata": {},
     "output_type": "execute_result"
    }
   ],
   "source": [
    "history_df = pd.DataFrame(history.history)\n",
    "history_df['epoch'] = history.epoch\n",
    "history_df.tail()"
   ]
  },
  {
   "cell_type": "code",
   "execution_count": 739,
   "metadata": {},
   "outputs": [
    {
     "data": {
      "text/plain": [
       "[<matplotlib.lines.Line2D at 0x7fb13331c6a0>]"
      ]
     },
     "execution_count": 739,
     "metadata": {},
     "output_type": "execute_result"
    },
    {
     "data": {
      "image/png": "[encoded data removed]",
      "text/plain": [
       "<Figure size 432x288 with 1 Axes>"
      ]
     },
     "metadata": {
      "needs_background": "light"
     },
     "output_type": "display_data"
    }
   ],
   "source": [
    "plt.xlabel('epochs')\n",
    "plt.ylabel('loss')\n",
    "plt.plot(history_df['epoch'], history_df['loss'], label='Training')\n",
    "plt.plot(history_df['epoch'], history_df['val_loss'], label='Validation', linestyle='dashed')"
   ]
  },
  {
   "cell_type": "markdown",
   "metadata": {},
   "source": [
    "### Model Evaluation"
   ]
  },
  {
   "cell_type": "code",
   "execution_count": 740,
   "metadata": {},
   "outputs": [
    {
     "name": "stdout",
     "output_type": "stream",
     "text": [
      "48/48 [==============================] - 0s 4ms/step - loss: 0.3938 - binary_accuracy: 0.8293\n"
     ]
    },
    {
     "data": {
      "text/plain": [
       "[0.3938466012477875, 0.8292843103408813]"
      ]
     },
     "execution_count": 740,
     "metadata": {},
     "output_type": "execute_result"
    }
   ],
   "source": [
    "lr_model.evaluate(X_val, Y_val)"
   ]
  },
  {
   "cell_type": "code",
   "execution_count": 741,
   "metadata": {},
   "outputs": [],
   "source": [
    "pred = lr_model.predict(X_val)\n",
    "pred = pred > .5\n",
    "pred =(pred[:,0]).astype(int)\n"
   ]
  },
  {
   "cell_type": "code",
   "execution_count": 742,
   "metadata": {},
   "outputs": [
    {
     "name": "stdout",
     "output_type": "stream",
     "text": [
      "True Positive:  559\n",
      "True Negative:  704\n",
      "False Positive:  110\n",
      "false Negative:  150\n",
      "Precision:  0.8355754857997011\n",
      "Recall:  0.7884344146685472\n",
      "F1 Score:  0.8113207547169812\n"
     ]
    }
   ],
   "source": [
    "tp = np.logical_and(pred == 1, Y_val == 1).sum()  # true positive\n",
    "tn = np.logical_and(pred == 0, Y_val == 0).sum()  # true negative\n",
    "fp = np.logical_and(pred == 1, Y_val == 0).sum()  # false positive\n",
    "fn = np.logical_and(pred == 0, Y_val == 1).sum()  # false negative\n",
    "\n",
    "precision = tp/(tp+fp)\n",
    "recall = tp/(tp+fn)\n",
    "\n",
    "f1_score = 2*(precision*recall)/(precision+recall)\n",
    "\n",
    "print(\"True Positive: \", tp)\n",
    "print(\"True Negative: \", tn)\n",
    "print(\"False Positive: \", fp)\n",
    "print(\"false Negative: \", fn)\n",
    "print(\"Precision: \", precision)\n",
    "print(\"Recall: \", recall)\n",
    "print(\"F1 Score: \", f1_score)\n"
   ]
  },
  {
   "cell_type": "code",
   "execution_count": 743,
   "metadata": {},
   "outputs": [],
   "source": [
    "def displayConfusionMatrix(y_test, pred, dataset):\n",
    "    disp = ConfusionMatrixDisplay.from_predictions(\n",
    "        y_test,\n",
    "        pred,\n",
    "        display_labels=[\"Not Disaster\",\"Disaster\"],\n",
    "        cmap=plt.cm.Blues\n",
    "    )\n",
    "\n",
    "    tn, fp, fn, tp = confusion_matrix(y_test, pred).ravel()\n",
    "    f1_score = tp / (tp+((fn+fp)/2))\n",
    "\n",
    "    disp.ax_.set_title(\"Confusion Matrix on \" + dataset + \" Dataset -- F1 Score: \" + str(f1_score.round(2)))"
   ]
  },
  {
   "cell_type": "code",
   "execution_count": 744,
   "metadata": {},
   "outputs": [
    {
     "data": {
      "image/png": "[encoded data removed]",
      "text/plain": [
       "<Figure size 432x288 with 2 Axes>"
      ]
     },
     "metadata": {
      "needs_background": "light"
     },
     "output_type": "display_data"
    }
   ],
   "source": [
    "displayConfusionMatrix(Y_val, pred, \"Validation\")"
   ]
  },
  {
   "cell_type": "markdown",
   "metadata": {},
   "source": [
    "### Inference"
   ]
  },
  {
   "cell_type": "code",
   "execution_count": 745,
   "metadata": {},
   "outputs": [
    {
     "name": "stdout",
     "output_type": "stream",
     "text": [
      "shape of test_padded:  (3263, 157)\n"
     ]
    }
   ],
   "source": [
    "test_tokenized = tokenize(df_test[\"text\"])\n",
    "test_padded = pad_tokens(test_tokenized, max_len)\n",
    "print(\"shape of test_padded: \", test_padded.shape)"
   ]
  },
  {
   "cell_type": "code",
   "execution_count": 746,
   "metadata": {},
   "outputs": [
    {
     "name": "stdout",
     "output_type": "stream",
     "text": [
      "shape of test attention mask:  (3263, 157)\n"
     ]
    }
   ],
   "source": [
    "test_attention_mask = get_attention_mask(test_padded)\n",
    "print(\"shape of test attention mask: \", test_attention_mask.shape)"
   ]
  },
  {
   "cell_type": "code",
   "execution_count": 747,
   "metadata": {},
   "outputs": [],
   "source": [
    "test_input_ids = tf.convert_to_tensor(test_padded, dtype=tf.int32)\n",
    "test_attention_mask = tf.convert_to_tensor(test_attention_mask, dtype=tf.int32)"
   ]
  },
  {
   "cell_type": "code",
   "execution_count": 748,
   "metadata": {},
   "outputs": [
    {
     "name": "stdout",
     "output_type": "stream",
     "text": [
      "shape of test_feature vectors:  (3263, 768)\n"
     ]
    }
   ],
   "source": [
    "test_features = get_features(test_input_ids, test_attention_mask, \"data/E_test.npy\")\n",
    "print(\"shape of test_feature vectors: \", test_features.shape)"
   ]
  },
  {
   "cell_type": "code",
   "execution_count": 749,
   "metadata": {},
   "outputs": [],
   "source": [
    "X_test = test_features\n",
    "X_test = np.append(X_test, test_keyword[:split_size,:], axis=1)"
   ]
  },
  {
   "cell_type": "code",
   "execution_count": 750,
   "metadata": {},
   "outputs": [],
   "source": [
    "pred_test = lr_model.predict(X_test)\n",
    "pred_test = pred_test > .5\n",
    "pred_test =(pred_test[:,0]).astype(int)"
   ]
  },
  {
   "cell_type": "code",
   "execution_count": 751,
   "metadata": {},
   "outputs": [
    {
     "data": {
      "text/html": [
       "<div>\n",
       "<style scoped>\n",
       "    .dataframe tbody tr th:only-of-type {\n",
       "        vertical-align: middle;\n",
       "    }\n",
       "\n",
       "    .dataframe tbody tr th {\n",
       "        vertical-align: top;\n",
       "    }\n",
       "\n",
       "    .dataframe thead th {\n",
       "        text-align: right;\n",
       "    }\n",
       "</style>\n",
       "<table border=\"1\" class=\"dataframe\">\n",
       "  <thead>\n",
       "    <tr style=\"text-align: right;\">\n",
       "      <th></th>\n",
       "      <th>id</th>\n",
       "      <th>target</th>\n",
       "    </tr>\n",
       "  </thead>\n",
       "  <tbody>\n",
       "    <tr>\n",
       "      <th>0</th>\n",
       "      <td>0</td>\n",
       "      <td>0</td>\n",
       "    </tr>\n",
       "    <tr>\n",
       "      <th>1</th>\n",
       "      <td>2</td>\n",
       "      <td>0</td>\n",
       "    </tr>\n",
       "    <tr>\n",
       "      <th>2</th>\n",
       "      <td>3</td>\n",
       "      <td>0</td>\n",
       "    </tr>\n",
       "    <tr>\n",
       "      <th>3</th>\n",
       "      <td>9</td>\n",
       "      <td>0</td>\n",
       "    </tr>\n",
       "    <tr>\n",
       "      <th>4</th>\n",
       "      <td>11</td>\n",
       "      <td>0</td>\n",
       "    </tr>\n",
       "  </tbody>\n",
       "</table>\n",
       "</div>"
      ],
      "text/plain": [
       "   id  target\n",
       "0   0       0\n",
       "1   2       0\n",
       "2   3       0\n",
       "3   9       0\n",
       "4  11       0"
      ]
     },
     "execution_count": 751,
     "metadata": {},
     "output_type": "execute_result"
    }
   ],
   "source": [
    "sample_submission = pd.read_csv(\"data/sample_submission.csv\")\n",
    "sample_submission.head()"
   ]
  },
  {
   "cell_type": "code",
   "execution_count": 752,
   "metadata": {},
   "outputs": [
    {
     "data": {
      "text/html": [
       "<div>\n",
       "<style scoped>\n",
       "    .dataframe tbody tr th:only-of-type {\n",
       "        vertical-align: middle;\n",
       "    }\n",
       "\n",
       "    .dataframe tbody tr th {\n",
       "        vertical-align: top;\n",
       "    }\n",
       "\n",
       "    .dataframe thead th {\n",
       "        text-align: right;\n",
       "    }\n",
       "</style>\n",
       "<table border=\"1\" class=\"dataframe\">\n",
       "  <thead>\n",
       "    <tr style=\"text-align: right;\">\n",
       "      <th></th>\n",
       "      <th>id</th>\n",
       "      <th>target</th>\n",
       "    </tr>\n",
       "  </thead>\n",
       "  <tbody>\n",
       "    <tr>\n",
       "      <th>0</th>\n",
       "      <td>0</td>\n",
       "      <td>1</td>\n",
       "    </tr>\n",
       "    <tr>\n",
       "      <th>1</th>\n",
       "      <td>2</td>\n",
       "      <td>1</td>\n",
       "    </tr>\n",
       "    <tr>\n",
       "      <th>2</th>\n",
       "      <td>3</td>\n",
       "      <td>1</td>\n",
       "    </tr>\n",
       "    <tr>\n",
       "      <th>3</th>\n",
       "      <td>9</td>\n",
       "      <td>1</td>\n",
       "    </tr>\n",
       "    <tr>\n",
       "      <th>4</th>\n",
       "      <td>11</td>\n",
       "      <td>1</td>\n",
       "    </tr>\n",
       "  </tbody>\n",
       "</table>\n",
       "</div>"
      ],
      "text/plain": [
       "   id  target\n",
       "0   0       1\n",
       "1   2       1\n",
       "2   3       1\n",
       "3   9       1\n",
       "4  11       1"
      ]
     },
     "execution_count": 752,
     "metadata": {},
     "output_type": "execute_result"
    }
   ],
   "source": [
    "sample_submission[\"target\"] = pred_test\n",
    "sample_submission.head()"
   ]
  },
  {
   "cell_type": "code",
   "execution_count": 753,
   "metadata": {},
   "outputs": [
    {
     "data": {
      "text/html": [
       "<div>\n",
       "<style scoped>\n",
       "    .dataframe tbody tr th:only-of-type {\n",
       "        vertical-align: middle;\n",
       "    }\n",
       "\n",
       "    .dataframe tbody tr th {\n",
       "        vertical-align: top;\n",
       "    }\n",
       "\n",
       "    .dataframe thead th {\n",
       "        text-align: right;\n",
       "    }\n",
       "</style>\n",
       "<table border=\"1\" class=\"dataframe\">\n",
       "  <thead>\n",
       "    <tr style=\"text-align: right;\">\n",
       "      <th></th>\n",
       "      <th>id</th>\n",
       "      <th>target</th>\n",
       "    </tr>\n",
       "  </thead>\n",
       "  <tbody>\n",
       "    <tr>\n",
       "      <th>count</th>\n",
       "      <td>3263.000000</td>\n",
       "      <td>3263.000000</td>\n",
       "    </tr>\n",
       "    <tr>\n",
       "      <th>mean</th>\n",
       "      <td>5427.152927</td>\n",
       "      <td>0.413117</td>\n",
       "    </tr>\n",
       "    <tr>\n",
       "      <th>std</th>\n",
       "      <td>3146.427221</td>\n",
       "      <td>0.492469</td>\n",
       "    </tr>\n",
       "    <tr>\n",
       "      <th>min</th>\n",
       "      <td>0.000000</td>\n",
       "      <td>0.000000</td>\n",
       "    </tr>\n",
       "    <tr>\n",
       "      <th>25%</th>\n",
       "      <td>2683.000000</td>\n",
       "      <td>0.000000</td>\n",
       "    </tr>\n",
       "    <tr>\n",
       "      <th>50%</th>\n",
       "      <td>5500.000000</td>\n",
       "      <td>0.000000</td>\n",
       "    </tr>\n",
       "    <tr>\n",
       "      <th>75%</th>\n",
       "      <td>8176.000000</td>\n",
       "      <td>1.000000</td>\n",
       "    </tr>\n",
       "    <tr>\n",
       "      <th>max</th>\n",
       "      <td>10875.000000</td>\n",
       "      <td>1.000000</td>\n",
       "    </tr>\n",
       "  </tbody>\n",
       "</table>\n",
       "</div>"
      ],
      "text/plain": [
       "                 id       target\n",
       "count   3263.000000  3263.000000\n",
       "mean    5427.152927     0.413117\n",
       "std     3146.427221     0.492469\n",
       "min        0.000000     0.000000\n",
       "25%     2683.000000     0.000000\n",
       "50%     5500.000000     0.000000\n",
       "75%     8176.000000     1.000000\n",
       "max    10875.000000     1.000000"
      ]
     },
     "execution_count": 753,
     "metadata": {},
     "output_type": "execute_result"
    }
   ],
   "source": [
    "sample_submission.describe()"
   ]
  },
  {
   "cell_type": "code",
   "execution_count": 754,
   "metadata": {},
   "outputs": [],
   "source": [
    "sample_submission.to_csv(\"data/submission2.csv\", index=False)"
   ]
  }
 ],
 "metadata": {
  "kernelspec": {
   "display_name": "venvML",
   "language": "python",
   "name": "python3"
  },
  "language_info": {
   "codemirror_mode": {
    "name": "ipython",
    "version": 3
   },
   "file_extension": ".py",
   "mimetype": "text/x-python",
   "name": "python",
   "nbconvert_exporter": "python",
   "pygments_lexer": "ipython3",
   "version": "3.7.3"
  }
 },
 "nbformat": 4,
 "nbformat_minor": 2
}
